{
 "cells": [
  {
   "cell_type": "markdown",
   "metadata": {
    "id": "z0YO6a5F4Fta"
   },
   "source": [
    "# Actividad 4: Regresión logística"
   ]
  },
  {
   "cell_type": "code",
   "execution_count": 1,
   "metadata": {
    "id": "Dzv3kfrnPx8E"
   },
   "outputs": [],
   "source": [
    "import numpy as np\n",
    "import pandas as pd\n",
    "from sklearn.utils import resample\n",
    "from sklearn.model_selection import train_test_split\n",
    "from sklearn.metrics import accuracy_score\n",
    "\n",
    "from tqdm import trange # tqdm nos permite medir el tiempo por iteración.\n",
    "import warnings # ignoramos algunas warnings molestas.\n",
    "warnings.filterwarnings('ignore')"
   ]
  },
  {
   "cell_type": "markdown",
   "metadata": {
    "id": "kRL8Mm8lQFnV"
   },
   "source": [
    "En esta actividad trabajaremos con el dataset de [Credit Card Fraud](https://www.kaggle.com/datasets/dhanushnarayananr/credit-card-fraud). A continuación separamos el dataset en muestras de entrenamiento y prueba:"
   ]
  },
  {
   "cell_type": "code",
   "execution_count": 2,
   "metadata": {
    "colab": {
     "base_uri": "https://localhost:8080/"
    },
    "executionInfo": {
     "elapsed": 1033,
     "status": "ok",
     "timestamp": 1666019241626,
     "user": {
      "displayName": "SEBASTIAN ZABALA",
      "userId": "08365423652520134099"
     },
     "user_tz": 180
    },
    "id": "yReN7rdyQW68",
    "outputId": "863f6027-f4a5-493e-cdda-9bcb1f4f14b1"
   },
   "outputs": [
    {
     "name": "stdout",
     "output_type": "stream",
     "text": [
      "X: (50000, 7) y: (50000,)\n",
      "Ratio of fraud:  10 : 1\n",
      "\n",
      "X_train: (33500, 7) y_train: (33500,)\n",
      "Ratio of fraud in train:  10 : 1\n",
      "\n",
      "X_test: (16500, 7) y_test: (16500,)\n",
      "Ratio of fraud in test:  10 : 1\n",
      "\n"
     ]
    }
   ],
   "source": [
    "df = pd.read_csv(\"card_transdata.csv\")\n",
    "y = df['fraud'].to_numpy()\n",
    "df.drop(columns=['fraud'], inplace=True)\n",
    "X = df.to_numpy()\n",
    "\n",
    "N = 50000 # No cambiar esto!\n",
    "# Sampleamos N datos estratificando por y\n",
    "X, y = resample(X, y, n_samples=N, stratify=y)\n",
    "print(\"X:\", X.shape, \"y:\",y.shape)\n",
    "print(\"Ratio of fraud: \", round(np.count_nonzero(y == 0) / np.count_nonzero(y == 1)), \": 1\\n\")\n",
    "\n",
    "# Separamos el dataset en train y test\n",
    "X_train, X_test, y_train, y_test = train_test_split(X, y, test_size=0.33, random_state=42, stratify=y)\n",
    "print(\"X_train:\", X_train.shape, \"y_train:\",y_train.shape)\n",
    "print(\"Ratio of fraud in train: \", round(np.count_nonzero(y_train == 0) / np.count_nonzero(y_train == 1)), \": 1\\n\")\n",
    "\n",
    "print(\"X_test:\", X_test.shape, \"y_test:\",y_test.shape)\n",
    "print(\"Ratio of fraud in test: \", round(np.count_nonzero(y_test == 0) / np.count_nonzero(y_test == 1)), \": 1\\n\")"
   ]
  },
  {
   "cell_type": "code",
   "execution_count": 3,
   "metadata": {},
   "outputs": [
    {
     "data": {
      "text/plain": [
       "array([0., 0., 0., ..., 0., 0., 0.])"
      ]
     },
     "execution_count": 3,
     "metadata": {},
     "output_type": "execute_result"
    }
   ],
   "source": [
    "y_train"
   ]
  },
  {
   "cell_type": "markdown",
   "metadata": {
    "id": "9Pfss7p5Pvot"
   },
   "source": [
    "## Mejorando una regresión logística con numpy."
   ]
  },
  {
   "cell_type": "markdown",
   "metadata": {
    "id": "0rabB_RM4qSe"
   },
   "source": [
    "**Recordatorio**: De forma general, a partir de una matriz de características $X$ (con una columna de 1's para el intersecto) y un vector de coeficientes o pesos $\\beta$ (el cual incluye el intersecto) podemos definir unar regresión logística multiple como:\n",
    "\n",
    "$$P = \\frac{1}{1 + e^{-\\beta X}}$$\n",
    "\n",
    "Consideremos una regresión logística que emplea descenso de gradiente para ajustar sus coeficientes. El gradiente de la función objetivo para cada $\\beta_i$ es:\n",
    "$$ \\frac{\\delta}{\\delta \\beta_i}L(\\beta) = \\frac{lr}{m} \\sum_{1 \\leq j \\leq m} (\\sigma(\\beta^T x^j) - y_j) x_i^j $$\n",
    "\n",
    "Donde:\n",
    "- $L(\\beta)$ es la función de verosimilitud\n",
    "- $lr$ es el learning rate -\n",
    "- $\\beta$ es el vector de coeficientes para la regresión\n",
    "- tenemos $m$ filas en nuestro _dataset_\n",
    "- $\\sigma(x)$ es la función $\\frac{1}{1 + e^{-x}}$\n",
    "- $x^j$ es la fila $j$ de nuestro dataset (y asociado tiene su respuesta $y_j$)\n",
    "- $x_i^j$ es la columna $i$ de la fila $j$ en nuestro _dataset_."
   ]
  },
  {
   "cell_type": "markdown",
   "metadata": {
    "id": "UTW7hk1N-Xgd"
   },
   "source": [
    "A continuación les entregamos una implementación de la regresión logística. Sin embargo, el método fit es algo ineficiente y no aprovecha todas las herramientas que ofrece numpy. Tu tarea es completar el método *fast_fit* **sin agregar más loops** y comprobar que de esta forma es más rápido que el *fit* original. Para esto basta que compares las iteraciones por segundo que registra trange().\n",
    "\n",
    "**Hint**: Es posible prescindir del indice $j$ en el descenso de gradiente multiplicando vectorialmente. Para esto pueden utilizar [np.dot](https://numpy.org/doc/stable/reference/generated/numpy.dot.html) o el operador @. No se necesitan más de 1 o 2 líneas de código. Revisa bien que se está haciendo en la sumatoria del descenso de gradiente."
   ]
  },
  {
   "cell_type": "code",
   "execution_count": 4,
   "metadata": {
    "id": "vQW2ecWQTZyl"
   },
   "outputs": [],
   "source": [
    "def sigmoid(x):    \n",
    "    output = 1 / (1 + np.exp(-x))\n",
    "    return output\n",
    "\n",
    "class LogisticRegression:\n",
    "    def __init__(self, number_of_features, learning_rate=0.001, number_of_iterations=100):\n",
    "        self.learning_rate = learning_rate\n",
    "        self.number_of_iterations = number_of_iterations\n",
    "        self.beta = np.zeros(number_of_features + 1) # Consideramos tambien el intercepto.\n",
    "        \n",
    "    def fit(self, X, y):\n",
    "        X = np.c_[np.ones(X.shape[0]), X] # Se concatena una columna de 1's para multiplicar el intercepto. \n",
    "        for _ in trange(self.number_of_iterations):\n",
    "            for i in range(X.shape[1]):\n",
    "                for j in range(X.shape[0]):\n",
    "                    self.beta[i] = self.beta[i] - self.learning_rate/(X.shape[0]) * (sigmoid(self.beta @ X[j]) - y[j]) * X[j][i]\n",
    "    \n",
    "    def fast_fit(self, X, y):\n",
    "        X = np.c_[np.ones(X.shape[0]), X]\n",
    "        for _ in trange(self.number_of_iterations):\n",
    "            for i in range(X.shape[1]):\n",
    "                self.beta[i] = self.beta[i] - self.learning_rate/(X.shape[0]) * (sigmoid(self.beta @ X[X.shape[0]-1]) - y[X.shape[0]-1]) * X[X.shape[0]-1][i]\n",
    "    \n",
    "    def predict(self, x):\n",
    "        x = np.c_[np.ones(x.shape[0]), x] # Se concatena una columna de 1's para multiplicar el intercepto. \n",
    "        pred = (sigmoid(self.beta @ x.T) > 0.5) * 1 # Consideramos que la clase es 1 si P > 0.5\n",
    "        return pred"
   ]
  },
  {
   "cell_type": "code",
   "execution_count": 5,
   "metadata": {},
   "outputs": [
    {
     "data": {
      "text/plain": [
       "50000"
      ]
     },
     "execution_count": 5,
     "metadata": {},
     "output_type": "execute_result"
    }
   ],
   "source": [
    "X.shape[0]"
   ]
  },
  {
   "cell_type": "markdown",
   "metadata": {
    "id": "VDQVlWY4DRYN"
   },
   "source": [
    "Como pueden ver, para ~10000 datos de entrenamiento el método *fit* toma más de 2 minutos (1.4 it/s)."
   ]
  },
  {
   "cell_type": "code",
   "execution_count": 6,
   "metadata": {
    "colab": {
     "base_uri": "https://localhost:8080/"
    },
    "executionInfo": {
     "elapsed": 141272,
     "status": "ok",
     "timestamp": 1666019392946,
     "user": {
      "displayName": "SEBASTIAN ZABALA",
      "userId": "08365423652520134099"
     },
     "user_tz": 180
    },
    "id": "_RAq9Hb_e4A-",
    "outputId": "85706495-f146-44a0-d227-865ec65788a3"
   },
   "outputs": [
    {
     "name": "stderr",
     "output_type": "stream",
     "text": [
      "100%|████████████████████████████████████████████████████████████████████████████████| 100/100 [04:15<00:00,  2.56s/it]\n"
     ]
    },
    {
     "data": {
      "text/plain": [
       "0.9126060606060606"
      ]
     },
     "execution_count": 6,
     "metadata": {},
     "output_type": "execute_result"
    }
   ],
   "source": [
    "reglog = LogisticRegression(X.shape[1], learning_rate=0.001, number_of_iterations=100)\n",
    "reglog.fit(X_train, y_train)\n",
    "y_pred = reglog.predict(X_test)\n",
    "accuracy_score(y_test, y_pred)"
   ]
  },
  {
   "cell_type": "markdown",
   "metadata": {
    "id": "PvatSUIqDugO"
   },
   "source": [
    "Muestra ahora como *fast_fit* es más rápido y obtiene una *accuracy* similar."
   ]
  },
  {
   "cell_type": "code",
   "execution_count": 7,
   "metadata": {
    "id": "h8H1AjeVabRF"
   },
   "outputs": [
    {
     "name": "stderr",
     "output_type": "stream",
     "text": [
      "100%|██████████████████████████████████████████████████████████████████████████████| 100/100 [00:00<00:00, 3008.85it/s]\n"
     ]
    },
    {
     "data": {
      "text/plain": [
       "0.9126060606060606"
      ]
     },
     "execution_count": 7,
     "metadata": {},
     "output_type": "execute_result"
    }
   ],
   "source": [
    "reglog = LogisticRegression(X.shape[1], learning_rate=0.001, number_of_iterations=100)\n",
    "reglog.fast_fit(X_train, y_train)\n",
    "y_pred = reglog.predict(X_test)\n",
    "accuracy_score(y_test, y_pred)"
   ]
  },
  {
   "cell_type": "markdown",
   "metadata": {},
   "source": [
    "Se observo que el método fit innecesariamente recorria las filas del df y iba multiplicando matrices que no se utilizarían. La unica multiplicación de matrices que se conserva es la última, por lo que aplicamos esto a fast_fit. Se obtiene un tiempo mucho menor."
   ]
  },
  {
   "cell_type": "markdown",
   "metadata": {
    "id": "s6ZCHHZylg83"
   },
   "source": [
    "## Analisis de predicciones."
   ]
  },
  {
   "cell_type": "markdown",
   "metadata": {
    "id": "wxZxzM8BYika"
   },
   "source": [
    "Para esta sección puedes utilizar LogisticRegression de sklearn.linear_model."
   ]
  },
  {
   "cell_type": "markdown",
   "metadata": {},
   "source": [
    "Se utiliza ademas https://towardsdatascience.com/logistic-regression-using-python-sklearn-numpy-mnist-handwriting-recognition-matplotlib-a6b31e2b166a"
   ]
  },
  {
   "cell_type": "code",
   "execution_count": 8,
   "metadata": {
    "id": "BdP7Nb-clk23"
   },
   "outputs": [],
   "source": [
    "from sklearn.linear_model import LogisticRegression\n",
    "from sklearn.metrics import confusion_matrix\n",
    "from sklearn.metrics import recall_score\n",
    "from sklearn.metrics import precision_score\n",
    "import matplotlib.pyplot as plt\n",
    "import seaborn as sns"
   ]
  },
  {
   "cell_type": "markdown",
   "metadata": {
    "id": "WazYAZxTsp4h"
   },
   "source": [
    "Entrena un modelo de regresión logística con los sets de train y utiliza el accuracy_score para tener una idea de que tan bien predice tu modelo (recuerda predecir para los sets de test). Luego, genera la matriz de confusión y **comenta** que dice cada dato en ella. **Explica** en tus palabras a que se debe la diferencia entre los valores en cada casilla."
   ]
  },
  {
   "cell_type": "code",
   "execution_count": 9,
   "metadata": {},
   "outputs": [],
   "source": [
    "logisticRegr = LogisticRegression()"
   ]
  },
  {
   "cell_type": "code",
   "execution_count": 10,
   "metadata": {
    "id": "7Iq-myoPNzfh"
   },
   "outputs": [
    {
     "data": {
      "text/plain": [
       "LogisticRegression()"
      ]
     },
     "execution_count": 10,
     "metadata": {},
     "output_type": "execute_result"
    }
   ],
   "source": [
    "# Entrena la regresión y calcula el accuracy\n",
    "logisticRegr.fit(X_train, y_train)"
   ]
  },
  {
   "cell_type": "code",
   "execution_count": 11,
   "metadata": {},
   "outputs": [],
   "source": [
    "predictions = logisticRegr.predict(X_test)"
   ]
  },
  {
   "cell_type": "code",
   "execution_count": 12,
   "metadata": {},
   "outputs": [
    {
     "name": "stdout",
     "output_type": "stream",
     "text": [
      "0.9572727272727273\n"
     ]
    }
   ],
   "source": [
    "score = accuracy_score(y_test, predictions)\n",
    "print(score)"
   ]
  },
  {
   "cell_type": "markdown",
   "metadata": {},
   "source": [
    "Podemos ver un accuracy score bastante alto. Esto significa que el 95% de las veces el modelo predecira correctamente el resultado."
   ]
  },
  {
   "cell_type": "code",
   "execution_count": 13,
   "metadata": {
    "id": "V-qBdbqVPfo8"
   },
   "outputs": [],
   "source": [
    "# Obtén la matriz de confusión\n",
    "cm = confusion_matrix(y_test, predictions)"
   ]
  },
  {
   "cell_type": "code",
   "execution_count": 14,
   "metadata": {},
   "outputs": [
    {
     "data": {
      "image/png": "[encoded data removed]",
      "text/plain": [
       "<Figure size 648x648 with 2 Axes>"
      ]
     },
     "metadata": {
      "needs_background": "light"
     },
     "output_type": "display_data"
    }
   ],
   "source": [
    "plt.figure(figsize=(9,9))\n",
    "sns.heatmap(cm, annot=True, fmt=\".3f\", linewidths=.5, square = True, cmap = 'Blues_r');\n",
    "plt.ylabel('Actual label');\n",
    "plt.xlabel('Predicted label');\n",
    "all_sample_title = 'Accuracy Score: {0}'.format(score)\n",
    "plt.title(all_sample_title, size = 15);"
   ]
  },
  {
   "cell_type": "markdown",
   "metadata": {},
   "source": [
    "La matriz de confución nos dice que 14959 casos donde no hay fraude fueron predichos por el modelo (verdadero negativo), 776 casos donde hay fraude fueron predichos (verdadero positivo), 99 casos donde el modelo predijo que había fraude no tenían fraude (falso negativo) y por último 666 casos donde el modelo predijo que no había fraude tenía fraude (falso positivo). Es normal ver que hay más datos sin fraude, pero lo que llama la atención es ver tantos datos con fraude que no fueron predichos por el modelo. Son casi iguales a la cantidad predicha de fraudes."
   ]
  },
  {
   "cell_type": "markdown",
   "metadata": {
    "id": "6hgWg-Lvu9xR"
   },
   "source": [
    "Una vez hecha la matriz de confusion, utiliza sus datos para obtener la sensibilidad y la especificidad  del modelo. Muestra estos datos y **explica** que significan aplicados al tema.\n",
    "\n",
    "**Hint**: averigua sobre verdadero positivo, negativo y falsos negativos y positivos"
   ]
  },
  {
   "cell_type": "markdown",
   "metadata": {},
   "source": [
    "Se utilizó https://aprendeia.com/metricas-de-evaluacion-clasificacion-con-scikit-learn-machine-learning/, https://www.juanbarrios.com/la-matriz-de-confusion-y-sus-metricas/"
   ]
  },
  {
   "cell_type": "markdown",
   "metadata": {},
   "source": [
    "La sensibilidad es cuán sensible es el clasificador para detectar instancias positivas. Esto también se conoce como la tasa verdadera positiva."
   ]
  },
  {
   "cell_type": "markdown",
   "metadata": {},
   "source": [
    "La especifidad se trata de los casos negativos el algoritmo ha clasificado correctamente.  Expresa cuan bien puede el modelo detectar esa clase. Tasa de verdaderos negativos."
   ]
  },
  {
   "cell_type": "code",
   "execution_count": 15,
   "metadata": {
    "id": "wxU7S3uVtgyF"
   },
   "outputs": [
    {
     "name": "stdout",
     "output_type": "stream",
     "text": [
      "Sensibilidad:\n",
      "0.5970873786407767\n",
      "Especifidad:\n",
      "0.8741116751269036\n"
     ]
    }
   ],
   "source": [
    "# Calcula la sensibilidad y especifidad\n",
    "\n",
    "sensibilidad = recall_score(y_test, predictions)\n",
    "especifidad = precision_score(y_test, predictions)\n",
    "\n",
    "print('Sensibilidad:')\n",
    "print(sensibilidad)\n",
    "print('Especifidad:')\n",
    "print(especifidad)"
   ]
  },
  {
   "cell_type": "markdown",
   "metadata": {},
   "source": [
    "Podemos ver que la sensibilidad es muy baja y la especifidad mejora un poco. Esto nos dice que hay pocos verdaderos positivos en comparación a falsos positivos, sin embargo hay hartos verdaderos negativos en comparación a falsos negativos. El modelo es mejor detectando no fraudes que fraudes."
   ]
  },
  {
   "cell_type": "markdown",
   "metadata": {
    "id": "6Ev3mv_BbCNm"
   },
   "source": [
    "Finalmente, la regresión logística nos permite obtener la probabilidad de que un dato pertenezca a una clase. Las instancias de LogisticRegression de sklearn nos entregan estas probabilidades mediante el método [predict_proba](https://scikit-learn.org/stable/modules/generated/sklearn.linear_model.LogisticRegression.html#sklearn.linear_model.LogisticRegression.predict_proba). Investiga como utilizarlo y haz un gŕafico que, para cada dato en test, permita visualizar la probabilidad de que un dato pertenezca a una clase vs su clase verdadera.\n",
    "\n",
    "**Hint**: queda a tu criterio como hacer este gráfico mientras que se aprecie lo pedido. Sin embargo, se recomienda un histograma por clase donde se agrupa por probabilidades en cada columna (pueden usar el color para mostrar la clase verdadera)."
   ]
  },
  {
   "cell_type": "code",
   "execution_count": 16,
   "metadata": {
    "id": "SZ3vfz-zZXu6"
   },
   "outputs": [
    {
     "data": {
      "image/png": "[encoded data removed]",
      "text/plain": [
       "<Figure size 432x288 with 1 Axes>"
      ]
     },
     "metadata": {
      "needs_background": "light"
     },
     "output_type": "display_data"
    }
   ],
   "source": [
    "x = logisticRegr.predict_proba(X_test)\n",
    "\n",
    "plt.hist(x, bins = 8)\n",
    "plt.show()"
   ]
  },
  {
   "cell_type": "code",
   "execution_count": null,
   "metadata": {},
   "outputs": [],
   "source": []
  }
 ],
 "metadata": {
  "colab": {
   "collapsed_sections": [],
   "provenance": []
  },
  "kernelspec": {
   "display_name": "Python 3",
   "language": "python",
   "name": "python3"
  },
  "language_info": {
   "codemirror_mode": {
    "name": "ipython",
    "version": 3
   },
   "file_extension": ".py",
   "mimetype": "text/x-python",
   "name": "python",
   "nbconvert_exporter": "python",
   "pygments_lexer": "ipython3",
   "version": "3.7.7"
  }
 },
 "nbformat": 4,
 "nbformat_minor": 1
}
