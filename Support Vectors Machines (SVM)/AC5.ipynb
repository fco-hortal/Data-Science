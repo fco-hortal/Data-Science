{
 "cells": [
  {
   "cell_type": "markdown",
   "metadata": {
    "id": "MiUQVU77VQa-"
   },
   "source": [
    "# Actividad 5: Support Vectors Machines (SVM)"
   ]
  },
  {
   "cell_type": "markdown",
   "metadata": {
    "id": "5H_JUPduaaZu"
   },
   "source": [
    "Actualmente 4.48 billones de personas utilizan redes sociales y se espera que este número siga creciendo a lo largo de los años. Sumado a esto, el usuario promedio interactúa con 6.6 redes sociales distintas. Teniendo esto en cuenta, la principal fuente de ingresos de estas plataformas proviene de su red de anuncios.\n",
    "\n",
    "En este contexto, una empresa está buscando analizar los patrones de compra de sus potenciales clientes, por lo que como alumno del curso Minería de Datos, se te pidió utilizar SVM para poder predecir si determinado usuario va a comprar el producto o no cuando vea el anuncio."
   ]
  },
  {
   "cell_type": "markdown",
   "metadata": {
    "id": "uAuT9OsidIry"
   },
   "source": [
    "### Descripción del Dataset\n",
    "\n",
    "El dataset a utilizar está compuesto por tres columnas:\n",
    "* **Age:** edad del usuario\n",
    "* **EstimatedSalary:** salario estimado del usuario\n",
    "* **Purchased:** variable binaria que indica si el usuario compró el producto (1) o no (0)"
   ]
  },
  {
   "cell_type": "markdown",
   "metadata": {
    "id": "kgZsnKHEeW_-"
   },
   "source": [
    "### Librerías a utilizar"
   ]
  },
  {
   "cell_type": "code",
   "execution_count": 1,
   "metadata": {
    "id": "x6Uiem0eUZtA"
   },
   "outputs": [],
   "source": [
    "import numpy as np\n",
    "import pandas as pd\n",
    "import matplotlib.pyplot as plt\n",
    "from sklearn.metrics import accuracy_score\n",
    "from sklearn.model_selection import train_test_split\n",
    "from sklearn.svm import SVC\n",
    "import time"
   ]
  },
  {
   "cell_type": "markdown",
   "metadata": {
    "id": "DfIpnlCVGjbe"
   },
   "source": [
    "## [1 pto] Carga y preprocesamiento de los datos"
   ]
  },
  {
   "cell_type": "code",
   "execution_count": 2,
   "metadata": {
    "id": "ptgg5jksGupY"
   },
   "outputs": [
    {
     "data": {
      "text/html": [
       "<div>\n",
       "<style scoped>\n",
       "    .dataframe tbody tr th:only-of-type {\n",
       "        vertical-align: middle;\n",
       "    }\n",
       "\n",
       "    .dataframe tbody tr th {\n",
       "        vertical-align: top;\n",
       "    }\n",
       "\n",
       "    .dataframe thead th {\n",
       "        text-align: right;\n",
       "    }\n",
       "</style>\n",
       "<table border=\"1\" class=\"dataframe\">\n",
       "  <thead>\n",
       "    <tr style=\"text-align: right;\">\n",
       "      <th></th>\n",
       "      <th>Age</th>\n",
       "      <th>EstimatedSalary</th>\n",
       "      <th>Purchased</th>\n",
       "    </tr>\n",
       "  </thead>\n",
       "  <tbody>\n",
       "    <tr>\n",
       "      <th>0</th>\n",
       "      <td>19</td>\n",
       "      <td>19000</td>\n",
       "      <td>0</td>\n",
       "    </tr>\n",
       "    <tr>\n",
       "      <th>1</th>\n",
       "      <td>35</td>\n",
       "      <td>20000</td>\n",
       "      <td>0</td>\n",
       "    </tr>\n",
       "    <tr>\n",
       "      <th>2</th>\n",
       "      <td>26</td>\n",
       "      <td>43000</td>\n",
       "      <td>0</td>\n",
       "    </tr>\n",
       "    <tr>\n",
       "      <th>3</th>\n",
       "      <td>27</td>\n",
       "      <td>57000</td>\n",
       "      <td>0</td>\n",
       "    </tr>\n",
       "    <tr>\n",
       "      <th>4</th>\n",
       "      <td>19</td>\n",
       "      <td>76000</td>\n",
       "      <td>0</td>\n",
       "    </tr>\n",
       "  </tbody>\n",
       "</table>\n",
       "</div>"
      ],
      "text/plain": [
       "   Age  EstimatedSalary  Purchased\n",
       "0   19            19000          0\n",
       "1   35            20000          0\n",
       "2   26            43000          0\n",
       "3   27            57000          0\n",
       "4   19            76000          0"
      ]
     },
     "execution_count": 2,
     "metadata": {},
     "output_type": "execute_result"
    }
   ],
   "source": [
    "url = 'https://raw.githubusercontent.com/mk-gurucharan/Classification/master/SocialNetworkAds.csv'\n",
    "df = pd.read_csv(url)\n",
    "df.head()"
   ]
  },
  {
   "cell_type": "markdown",
   "metadata": {
    "id": "wWCS1kU7U5-p"
   },
   "source": [
    "A continuación, divide el dataset en datos (X) y label (y), y separa los datos en train y test con un ratio de 70:30"
   ]
  },
  {
   "cell_type": "code",
   "execution_count": 20,
   "metadata": {},
   "outputs": [],
   "source": [
    "X = pd.DataFrame(df[['Age', 'EstimatedSalary']])\n",
    "y = pd.DataFrame(df['Purchased'])"
   ]
  },
  {
   "cell_type": "code",
   "execution_count": 4,
   "metadata": {
    "id": "TigU5R4uVCaU"
   },
   "outputs": [
    {
     "name": "stdout",
     "output_type": "stream",
     "text": [
      "X_train: (280, 2) y_train: (280, 1)\n",
      "X_test: (120, 2) y_test: (120, 1)\n"
     ]
    }
   ],
   "source": [
    "# Separamos el dataset en train y test\n",
    "X_train, X_test, y_train, y_test = train_test_split(X, y, test_size=0.3, random_state=42)\n",
    "print(\"X_train:\", X_train.shape, \"y_train:\",y_train.shape)\n",
    "print(\"X_test:\", X_test.shape, \"y_test:\",y_test.shape)"
   ]
  },
  {
   "cell_type": "markdown",
   "metadata": {
    "id": "yAa3KCy7HAzx"
   },
   "source": [
    "Realiza una normalización _min-max_ de los datos para los datos de entrenamiento y de test. Guarda los resultados en una nueva variable."
   ]
  },
  {
   "cell_type": "code",
   "execution_count": 5,
   "metadata": {},
   "outputs": [],
   "source": [
    "from sklearn.preprocessing import MinMaxScaler"
   ]
  },
  {
   "cell_type": "code",
   "execution_count": 6,
   "metadata": {
    "id": "DwC3EFlIHY2c"
   },
   "outputs": [
    {
     "name": "stdout",
     "output_type": "stream",
     "text": [
      "X_train_n: (280, 2) y_train_n: (280, 1)\n",
      "X_test_n: (120, 2) y_test_n: (120, 1)\n"
     ]
    }
   ],
   "source": [
    "# Se define min max scaler\n",
    "scaler = MinMaxScaler()\n",
    "\n",
    "#Normaliza\n",
    "X_train_n = scaler.fit_transform(X_train)\n",
    "X_test_n = scaler.fit_transform(X_test)\n",
    "y_train_n = scaler.fit_transform(y_train)\n",
    "y_test_n = scaler.fit_transform(y_test)\n",
    "\n",
    "print(\"X_train_n:\", X_train_n.shape, \"y_train_n:\",y_train_n.shape)\n",
    "print(\"X_test_n:\", X_test_n.shape, \"y_test_n:\",y_test_n.shape)"
   ]
  },
  {
   "cell_type": "markdown",
   "metadata": {
    "id": "osGXvvHPaMMU"
   },
   "source": [
    "## [2ptos] Implementación de SVM"
   ]
  },
  {
   "cell_type": "markdown",
   "metadata": {
    "id": "qajt2ywyoJI4"
   },
   "source": [
    "Completa la funación ```fit_predict```, la cual está encargada de entrenal el modelo de SVM y predecir los labels de los datos de test. Recibe como argumento:\n",
    "* **X_train**: datos de entrenamiento\n",
    "* **y_train**: labels de los datos de entrenamiento\n",
    "* **X_test**: datos de test\n",
    "* **kernel**: el tipo de kernel a utilizar en SVM\n",
    "\n",
    "Retorna al clasificador junto a los resultados de la predicción\n",
    "\n",
    "Se uso: https://towardsdatascience.com/fit-vs-predict-vs-fit-predict-in-python-scikit-learn-f15a34a8d39f"
   ]
  },
  {
   "cell_type": "code",
   "execution_count": 7,
   "metadata": {
    "id": "PTf4Ln2V15AW"
   },
   "outputs": [],
   "source": [
    "def fit_predict(X_train, y_train, X_test, kernel='linear'):\n",
    "    # Se crea un Support Vector Classifier\n",
    "    clf = SVC(kernel=kernel)\n",
    "    # Se entrena con la data\n",
    "    clf.fit(X_train, y_train)\n",
    "    # Se predice\n",
    "    predictions = clf.predict(X_test)\n",
    "    return predictions"
   ]
  },
  {
   "cell_type": "markdown",
   "metadata": {
    "id": "I0-cnhPNprGQ"
   },
   "source": [
    "Ejecuta la función ```fit_predict``` con los datos originales y con los datos normalizados midiento el tiempo de ejecución. ¿A que se debe esta diferencia?"
   ]
  },
  {
   "cell_type": "markdown",
   "metadata": {},
   "source": [
    "Con kernel=linear se demora más de 2 horas, por lo que decidi interrumpir el kernel y tratar con rbf"
   ]
  },
  {
   "cell_type": "code",
   "execution_count": 8,
   "metadata": {
    "id": "69-kJG_aiKyP"
   },
   "outputs": [
    {
     "name": "stdout",
     "output_type": "stream",
     "text": [
      "--- 0.03000497817993164 seconds ---\n"
     ]
    },
    {
     "name": "stderr",
     "output_type": "stream",
     "text": [
      "c:\\users\\francisco\\appdata\\local\\programs\\python\\python37\\lib\\site-packages\\sklearn\\utils\\validation.py:993: DataConversionWarning: A column-vector y was passed when a 1d array was expected. Please change the shape of y to (n_samples, ), for example using ravel().\n",
      "  y = column_or_1d(y, warn=True)\n"
     ]
    }
   ],
   "source": [
    "start_time = time.time()\n",
    "predictions = fit_predict(X_train= X_train, y_train=y_train, X_test=X_test, kernel='rbf')\n",
    "print(\"--- %s seconds ---\" % (time.time() - start_time))"
   ]
  },
  {
   "cell_type": "code",
   "execution_count": 9,
   "metadata": {},
   "outputs": [
    {
     "name": "stdout",
     "output_type": "stream",
     "text": [
      "--- 0.006997346878051758 seconds ---\n"
     ]
    },
    {
     "name": "stderr",
     "output_type": "stream",
     "text": [
      "c:\\users\\francisco\\appdata\\local\\programs\\python\\python37\\lib\\site-packages\\sklearn\\utils\\validation.py:993: DataConversionWarning: A column-vector y was passed when a 1d array was expected. Please change the shape of y to (n_samples, ), for example using ravel().\n",
      "  y = column_or_1d(y, warn=True)\n"
     ]
    }
   ],
   "source": [
    "start_time = time.time()\n",
    "predictions_n = fit_predict(X_train=X_train_n, y_train=y_train_n, X_test=X_test_n, kernel='rbf')\n",
    "print(\"--- %s seconds ---\" % (time.time() - start_time))"
   ]
  },
  {
   "cell_type": "code",
   "execution_count": 10,
   "metadata": {},
   "outputs": [
    {
     "name": "stdout",
     "output_type": "stream",
     "text": [
      "--- 0.006987810134887695 seconds ---\n"
     ]
    },
    {
     "name": "stderr",
     "output_type": "stream",
     "text": [
      "c:\\users\\francisco\\appdata\\local\\programs\\python\\python37\\lib\\site-packages\\sklearn\\utils\\validation.py:993: DataConversionWarning: A column-vector y was passed when a 1d array was expected. Please change the shape of y to (n_samples, ), for example using ravel().\n",
      "  y = column_or_1d(y, warn=True)\n"
     ]
    }
   ],
   "source": [
    "start_time = time.time()\n",
    "predictions_n = fit_predict(X_train=X_train_n, y_train=y_train_n, X_test=X_test_n, kernel='linear')\n",
    "print(\"--- %s seconds ---\" % (time.time() - start_time))"
   ]
  },
  {
   "cell_type": "markdown",
   "metadata": {
    "id": "vVqf1tUy3Vcg"
   },
   "source": [
    "[RESPUESTA]\n",
    "Se usó: https://neerajkumar.org/writings/svm/\n",
    "\n",
    "Se puede ver que el tiempo con los datos normalizados es mucho menor. Esto se debe a que SVC asume que los datos vendrán estandarizados entre 0 y 1 o entre -1 y 1. En caso contrario se puede dar que una dimensión tome mayor relevancia que la otra basado en la escala de sus números. "
   ]
  },
  {
   "cell_type": "markdown",
   "metadata": {
    "id": "IJA4KP0awmAO"
   },
   "source": [
    "## [1 pto] Estudio de kernels"
   ]
  },
  {
   "cell_type": "markdown",
   "metadata": {
    "id": "v-4YrOKEwwoL"
   },
   "source": [
    "Ocupa la función ```fit_predeict``` y los datos normalizados para obtener predicciones utilizarndo al menos tres kernels distintos. Compara los _accuracy_score_ obtenidos por cada uno de estos modelos y explica brevemente a que se deben estas diferencias"
   ]
  },
  {
   "cell_type": "code",
   "execution_count": 11,
   "metadata": {
    "id": "owfsbnlwxJiK"
   },
   "outputs": [
    {
     "name": "stdout",
     "output_type": "stream",
     "text": [
      "--- 0.0069735050201416016 seconds linear ---\n",
      "--- 0.004994392395019531 seconds rbf ---\n",
      "--- 0.009004354476928711 seconds sigmoid---\n"
     ]
    },
    {
     "name": "stderr",
     "output_type": "stream",
     "text": [
      "c:\\users\\francisco\\appdata\\local\\programs\\python\\python37\\lib\\site-packages\\sklearn\\utils\\validation.py:993: DataConversionWarning: A column-vector y was passed when a 1d array was expected. Please change the shape of y to (n_samples, ), for example using ravel().\n",
      "  y = column_or_1d(y, warn=True)\n",
      "c:\\users\\francisco\\appdata\\local\\programs\\python\\python37\\lib\\site-packages\\sklearn\\utils\\validation.py:993: DataConversionWarning: A column-vector y was passed when a 1d array was expected. Please change the shape of y to (n_samples, ), for example using ravel().\n",
      "  y = column_or_1d(y, warn=True)\n",
      "c:\\users\\francisco\\appdata\\local\\programs\\python\\python37\\lib\\site-packages\\sklearn\\utils\\validation.py:993: DataConversionWarning: A column-vector y was passed when a 1d array was expected. Please change the shape of y to (n_samples, ), for example using ravel().\n",
      "  y = column_or_1d(y, warn=True)\n"
     ]
    }
   ],
   "source": [
    "start_time = time.time()\n",
    "predictions_n_linear = fit_predict(X_train=X_train_n, y_train=y_train_n, X_test=X_test_n, kernel='linear')\n",
    "print(\"--- %s seconds linear ---\" % (time.time() - start_time))\n",
    "\n",
    "start_time = time.time()\n",
    "predictions_n_rbf = fit_predict(X_train=X_train_n, y_train=y_train_n, X_test=X_test_n, kernel='rbf')\n",
    "print(\"--- %s seconds rbf ---\" % (time.time() - start_time))\n",
    "\n",
    "start_time = time.time()\n",
    "predictions_n_sigmoid = fit_predict(X_train=X_train_n, y_train=y_train_n, X_test=X_test_n, kernel='sigmoid')\n",
    "print(\"--- %s seconds sigmoid---\" % (time.time() - start_time))"
   ]
  },
  {
   "cell_type": "code",
   "execution_count": 12,
   "metadata": {},
   "outputs": [
    {
     "name": "stdout",
     "output_type": "stream",
     "text": [
      "Accuracy Score linear: 0.85\n",
      "Accuracy Score rbf: 0.9416666666666667\n",
      "Accuracy Score sigmoid: 0.375\n"
     ]
    }
   ],
   "source": [
    "print(f'Accuracy Score linear: {accuracy_score(y_test, predictions_n_linear)}')\n",
    "print(f'Accuracy Score rbf: {accuracy_score(y_test, predictions_n_rbf)}')\n",
    "print(f'Accuracy Score sigmoid: {accuracy_score(y_test, predictions_n_sigmoid)}')"
   ]
  },
  {
   "cell_type": "markdown",
   "metadata": {
    "id": "lRyFzUXH3dao"
   },
   "source": [
    "[RESPUESTA]\n",
    "\n",
    "Se utilizó: https://dataaspirant.com/svm-kernels/\n",
    "\n",
    "Podemos ver que el modelo que tiene un mejor score es el que utiliza rbf y el peor es sigmoid. Sigmoid se utiliza más en la construcción de redes neuronales y linear funciona mejor en casos que pueden ser linealmente separables. Rbf o Gaussian Radial Basis Function funciona muy bien para data no lineal, y se acomodo bien al set de datos utilizado. "
   ]
  },
  {
   "cell_type": "markdown",
   "metadata": {
    "id": "hWVp_fbcZLD0"
   },
   "source": [
    "## [2 ptos] Visualización y análisis de los resultados"
   ]
  },
  {
   "cell_type": "markdown",
   "metadata": {
    "id": "6Z1pWzTIrdjN"
   },
   "source": [
    "Por último, es importante visualizar la división obtenida. Por facilidad utilizaremos el modelo con kernel linear. Visualiza los datos de entrenamiento coloreados según la predicción realizada, junto al hiperplano obtenido\n",
    "Se utilizó: https://chrisalbon.com/code/machine_learning/support_vector_machines/plot_support_vector_classifier_hyperplane/"
   ]
  },
  {
   "cell_type": "code",
   "execution_count": 17,
   "metadata": {},
   "outputs": [],
   "source": [
    "from sklearn.svm import LinearSVC"
   ]
  },
  {
   "cell_type": "code",
   "execution_count": 29,
   "metadata": {
    "id": "PLeMci3AmEMO"
   },
   "outputs": [
    {
     "name": "stderr",
     "output_type": "stream",
     "text": [
      "c:\\users\\francisco\\appdata\\local\\programs\\python\\python37\\lib\\site-packages\\sklearn\\utils\\validation.py:993: DataConversionWarning: A column-vector y was passed when a 1d array was expected. Please change the shape of y to (n_samples, ), for example using ravel().\n",
      "  y = column_or_1d(y, warn=True)\n"
     ]
    },
    {
     "data": {
      "image/png": "[encoded data removed]",
      "text/plain": [
       "<Figure size 432x288 with 1 Axes>"
      ]
     },
     "metadata": {
      "needs_background": "light"
     },
     "output_type": "display_data"
    }
   ],
   "source": [
    "# Create support vector classifier\n",
    "svc = LinearSVC(C=1.0)\n",
    "\n",
    "X_n = scaler.fit_transform(X)\n",
    "y_n = scaler.fit_transform(y)\n",
    "# Train model\n",
    "model = svc.fit(X_n, y_n)\n",
    "\n",
    "# Plot data points and color using their class\n",
    "color = ['black' if c == 0 else 'lightgrey' for c in y_n]\n",
    "plt.scatter(X_n[:,0], X_n[:,1], c=color)\n",
    "\n",
    "# Create the hyperplane\n",
    "w = svc.coef_[0]\n",
    "a = -w[0] / w[1]\n",
    "xx = np.linspace(0, 1)\n",
    "yy = a * xx - (svc.intercept_[0]) / w[1]\n",
    "\n",
    "# Plot the hyperplane\n",
    "plt.plot(xx, yy)\n",
    "plt.axis(\"off\"), plt.show();"
   ]
  },
  {
   "cell_type": "markdown",
   "metadata": {},
   "source": [
    "Se puede ver un resultado acorde con el accuracy obtenido anteriormente. La linea que atraviesa los puntos es el hiperplano."
   ]
  },
  {
   "cell_type": "code",
   "execution_count": null,
   "metadata": {},
   "outputs": [],
   "source": []
  }
 ],
 "metadata": {
  "colab": {
   "provenance": []
  },
  "kernelspec": {
   "display_name": "Python 3",
   "language": "python",
   "name": "python3"
  },
  "language_info": {
   "codemirror_mode": {
    "name": "ipython",
    "version": 3
   },
   "file_extension": ".py",
   "mimetype": "text/x-python",
   "name": "python",
   "nbconvert_exporter": "python",
   "pygments_lexer": "ipython3",
   "version": "3.7.7"
  }
 },
 "nbformat": 4,
 "nbformat_minor": 1
}
