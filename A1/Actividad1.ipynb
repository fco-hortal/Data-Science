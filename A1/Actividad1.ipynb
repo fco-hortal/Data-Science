{
 "cells": [
  {
   "cell_type": "markdown",
   "metadata": {
    "id": "R_IJbbl-9td4"
   },
   "source": [
    "#Actividad 1: Clustering de Civilizaciones"
   ]
  },
  {
   "cell_type": "markdown",
   "metadata": {
    "id": "7tVUQ-Ph-fzg"
   },
   "source": [
    "La teoría de civilizaciones de Samuel Huntington plantea como hipótesis que el mayor nivel de identificación cultural de una persona está dado por la civilización a la que pertenece. Citando el artículo de 1993 de Huntington:\n",
    "\n",
    "> *Los Estados-nación seguirán siendo los actores más poderosos del panorama internacional, pero los principales conflictos de la política global ocurrirán entre naciones y grupos de naciones pertenecientes a diferentes civilizaciones. El choque de civilizaciones dominará la política global. Las fallas entre las civilizaciones serán los frentes de batalla del futuro.*\n",
    "\n",
    "Aplicando la hipótesis de Huntington, se pueden explicar varios de los conflictos mundiales más recientes. Por ejemplo, el libro predijo como inminente un conflicto entre Rusia y Ucrania originado por la coexistencia fuerzas occidentales y ortodoxas dentro del Ucrania.\n",
    "\n",
    "\n",
    "A continuación, se presenta un mapamundi que visualiza la división de los países entre civilizaciones.\n",
    "\n",
    "<br>\n",
    "<center>\n",
    "<img src=\"https://upload.wikimedia.org/wikipedia/commons/thumb/c/ca/Civilizations_map.png/750px-Civilizations_map.png\" width=\"400\"/>\n",
    "\n",
    "Fuente: https://es.wikipedia.org/wiki/Choque_de_civilizaciones\n",
    "\n",
    "</center>\n",
    "\n",
    "## ¿Cuál es tu tarea?\n",
    "En esta actividad deberás identificar clusters que representen una cantidad *n* de civilizaciones del mundo y evaluar la \"calidad\" de los clusters encontrados. Dada con una base de datos con información que describe a distintos países del mundo, deberás utilizar el algoritmo de clustering aglomerativo para encontrar la mejor división de los países a través de una búsqueda de hiperparámetros. Luego realizarás una reducción de dimensionalidad que usarás para visualizar la mejor combinación y finalmente pondrás a prueba los algoritmos KMeans y MiniBatchKMeans."
   ]
  },
  {
   "cell_type": "markdown",
   "metadata": {
    "id": "hA32k7ONBZ_f"
   },
   "source": [
    "## Descripción dataset\n",
    "\n",
    "El *dataset* a utilizar proviene de [World Values Survey](https://www.worldvaluessurvey.org/wvs.jsp), una organización que desde los años 80 realiza encuentas valóricas en distintos países. Trabajaremos con los datos de 81 países recolectados entre 2017 y 2020. En total son 231 preguntas, teniendo cada una distintas respuestas. Cada una de estas respuestas representa a una de las 768 columnas del *dataset*. Por ejemplo, la pregunta `A001` es `Important in life: Family`, la cual es respondida entre los valores 1 y 4. Así, por ejemplo, en Argentina cerca del 91% de las personas responden 1 a esa pregunda (`A001_1`), mientras que el 0% responde con 4. Los temas de las preguntas son variados, entre los que se encuentran las posiciones de las personas de cada país frente a temas como el aborto, la importancia de la religión, el sentimiento de felicidad, la confianza en el gobierno y la valoración de la democracia. De esta forma, describimos a cada pais en función de 768 valores."
   ]
  },
  {
   "cell_type": "markdown",
   "metadata": {
    "id": "FP-q9qW-C0An"
   },
   "source": [
    "# [0.5 ptos] Parte 1: Carga y preprocesamiento\n",
    "Carga la base de datos que se encuentra en el link, puedes utilizar la función [read_csv](https://pandas.pydata.org/docs/reference/api/pandas.read_csv.html) de `pandas`. Utiliza como identificador de cada fila el nombre de cada pais con el argumento `index_col`."
   ]
  },
  {
   "cell_type": "code",
   "execution_count": 1,
   "metadata": {
    "id": "UPR8-ro_FBKJ"
   },
   "outputs": [],
   "source": [
    "import pandas as pd"
   ]
  },
  {
   "cell_type": "code",
   "execution_count": 2,
   "metadata": {
    "id": "RoU4nCCF9tLb"
   },
   "outputs": [
    {
     "data": {
      "text/html": [
       "<div>\n",
       "<style scoped>\n",
       "    .dataframe tbody tr th:only-of-type {\n",
       "        vertical-align: middle;\n",
       "    }\n",
       "\n",
       "    .dataframe tbody tr th {\n",
       "        vertical-align: top;\n",
       "    }\n",
       "\n",
       "    .dataframe thead th {\n",
       "        text-align: right;\n",
       "    }\n",
       "</style>\n",
       "<table border=\"1\" class=\"dataframe\">\n",
       "  <thead>\n",
       "    <tr style=\"text-align: right;\">\n",
       "      <th></th>\n",
       "      <th>index_col</th>\n",
       "      <th>A001_1</th>\n",
       "      <th>A001_2</th>\n",
       "      <th>A001_3</th>\n",
       "      <th>A001_4</th>\n",
       "      <th>A002_1</th>\n",
       "      <th>A002_2</th>\n",
       "      <th>A002_3</th>\n",
       "      <th>A002_4</th>\n",
       "      <th>A003_1</th>\n",
       "      <th>...</th>\n",
       "      <th>H010_1</th>\n",
       "      <th>H010_2</th>\n",
       "      <th>H010_3</th>\n",
       "      <th>H010_4</th>\n",
       "      <th>H011_1</th>\n",
       "      <th>H011_2</th>\n",
       "      <th>H011_3</th>\n",
       "      <th>H011_4</th>\n",
       "      <th>G027A_1</th>\n",
       "      <th>G027A_2</th>\n",
       "    </tr>\n",
       "  </thead>\n",
       "  <tbody>\n",
       "    <tr>\n",
       "      <th>0</th>\n",
       "      <td>Albania</td>\n",
       "      <td>0.981092</td>\n",
       "      <td>0.017507</td>\n",
       "      <td>0.001401</td>\n",
       "      <td>0.000000</td>\n",
       "      <td>0.355944</td>\n",
       "      <td>0.562937</td>\n",
       "      <td>0.072028</td>\n",
       "      <td>0.009091</td>\n",
       "      <td>0.182517</td>\n",
       "      <td>...</td>\n",
       "      <td>0.104167</td>\n",
       "      <td>0.203305</td>\n",
       "      <td>0.160201</td>\n",
       "      <td>0.532328</td>\n",
       "      <td>0.135908</td>\n",
       "      <td>0.204578</td>\n",
       "      <td>0.153791</td>\n",
       "      <td>0.505722</td>\n",
       "      <td>0.995816</td>\n",
       "      <td>0.004184</td>\n",
       "    </tr>\n",
       "    <tr>\n",
       "      <th>1</th>\n",
       "      <td>Andorra</td>\n",
       "      <td>0.895418</td>\n",
       "      <td>0.096614</td>\n",
       "      <td>0.004980</td>\n",
       "      <td>0.002988</td>\n",
       "      <td>0.548805</td>\n",
       "      <td>0.374502</td>\n",
       "      <td>0.068725</td>\n",
       "      <td>0.007968</td>\n",
       "      <td>0.629482</td>\n",
       "      <td>...</td>\n",
       "      <td>0.036853</td>\n",
       "      <td>0.063745</td>\n",
       "      <td>0.173307</td>\n",
       "      <td>0.726096</td>\n",
       "      <td>0.041874</td>\n",
       "      <td>0.086740</td>\n",
       "      <td>0.127617</td>\n",
       "      <td>0.743769</td>\n",
       "      <td>0.276892</td>\n",
       "      <td>0.723108</td>\n",
       "    </tr>\n",
       "    <tr>\n",
       "      <th>2</th>\n",
       "      <td>Argentina</td>\n",
       "      <td>0.909272</td>\n",
       "      <td>0.089731</td>\n",
       "      <td>0.000997</td>\n",
       "      <td>0.000000</td>\n",
       "      <td>0.568295</td>\n",
       "      <td>0.339980</td>\n",
       "      <td>0.073779</td>\n",
       "      <td>0.017946</td>\n",
       "      <td>0.373373</td>\n",
       "      <td>...</td>\n",
       "      <td>0.074035</td>\n",
       "      <td>0.188738</td>\n",
       "      <td>0.215850</td>\n",
       "      <td>0.521376</td>\n",
       "      <td>0.136698</td>\n",
       "      <td>0.227129</td>\n",
       "      <td>0.208202</td>\n",
       "      <td>0.427971</td>\n",
       "      <td>0.979063</td>\n",
       "      <td>0.020937</td>\n",
       "    </tr>\n",
       "    <tr>\n",
       "      <th>3</th>\n",
       "      <td>Armenia</td>\n",
       "      <td>0.898599</td>\n",
       "      <td>0.094730</td>\n",
       "      <td>0.004670</td>\n",
       "      <td>0.002001</td>\n",
       "      <td>0.395194</td>\n",
       "      <td>0.482644</td>\n",
       "      <td>0.110814</td>\n",
       "      <td>0.011348</td>\n",
       "      <td>0.272605</td>\n",
       "      <td>...</td>\n",
       "      <td>0.156504</td>\n",
       "      <td>0.277100</td>\n",
       "      <td>0.275745</td>\n",
       "      <td>0.290650</td>\n",
       "      <td>0.195946</td>\n",
       "      <td>0.289189</td>\n",
       "      <td>0.247297</td>\n",
       "      <td>0.267568</td>\n",
       "      <td>0.963333</td>\n",
       "      <td>0.036667</td>\n",
       "    </tr>\n",
       "    <tr>\n",
       "      <th>4</th>\n",
       "      <td>Australia</td>\n",
       "      <td>0.907377</td>\n",
       "      <td>0.077094</td>\n",
       "      <td>0.013311</td>\n",
       "      <td>0.002219</td>\n",
       "      <td>0.566818</td>\n",
       "      <td>0.389015</td>\n",
       "      <td>0.041903</td>\n",
       "      <td>0.002265</td>\n",
       "      <td>0.426538</td>\n",
       "      <td>...</td>\n",
       "      <td>0.075851</td>\n",
       "      <td>0.247630</td>\n",
       "      <td>0.367540</td>\n",
       "      <td>0.308979</td>\n",
       "      <td>0.104619</td>\n",
       "      <td>0.229827</td>\n",
       "      <td>0.303840</td>\n",
       "      <td>0.361714</td>\n",
       "      <td>0.928453</td>\n",
       "      <td>0.071547</td>\n",
       "    </tr>\n",
       "  </tbody>\n",
       "</table>\n",
       "<p>5 rows × 769 columns</p>\n",
       "</div>"
      ],
      "text/plain": [
       "   index_col    A001_1    A001_2    A001_3    A001_4    A002_1    A002_2  \\\n",
       "0    Albania  0.981092  0.017507  0.001401  0.000000  0.355944  0.562937   \n",
       "1    Andorra  0.895418  0.096614  0.004980  0.002988  0.548805  0.374502   \n",
       "2  Argentina  0.909272  0.089731  0.000997  0.000000  0.568295  0.339980   \n",
       "3    Armenia  0.898599  0.094730  0.004670  0.002001  0.395194  0.482644   \n",
       "4  Australia  0.907377  0.077094  0.013311  0.002219  0.566818  0.389015   \n",
       "\n",
       "     A002_3    A002_4    A003_1  ...    H010_1    H010_2    H010_3    H010_4  \\\n",
       "0  0.072028  0.009091  0.182517  ...  0.104167  0.203305  0.160201  0.532328   \n",
       "1  0.068725  0.007968  0.629482  ...  0.036853  0.063745  0.173307  0.726096   \n",
       "2  0.073779  0.017946  0.373373  ...  0.074035  0.188738  0.215850  0.521376   \n",
       "3  0.110814  0.011348  0.272605  ...  0.156504  0.277100  0.275745  0.290650   \n",
       "4  0.041903  0.002265  0.426538  ...  0.075851  0.247630  0.367540  0.308979   \n",
       "\n",
       "     H011_1    H011_2    H011_3    H011_4   G027A_1   G027A_2  \n",
       "0  0.135908  0.204578  0.153791  0.505722  0.995816  0.004184  \n",
       "1  0.041874  0.086740  0.127617  0.743769  0.276892  0.723108  \n",
       "2  0.136698  0.227129  0.208202  0.427971  0.979063  0.020937  \n",
       "3  0.195946  0.289189  0.247297  0.267568  0.963333  0.036667  \n",
       "4  0.104619  0.229827  0.303840  0.361714  0.928453  0.071547  \n",
       "\n",
       "[5 rows x 769 columns]"
      ]
     },
     "execution_count": 2,
     "metadata": {},
     "output_type": "execute_result"
    }
   ],
   "source": [
    "url = 'https://drive.google.com/uc?id=1_wiSDk4zy2dJf0ZzJaLslz3IVkruq_wZ'\n",
    "df = pd.read_csv(url)\n",
    "df = df.rename(columns={'CNTRYCOW': 'index_col'})\n",
    "df.head()"
   ]
  },
  {
   "cell_type": "markdown",
   "metadata": {
    "id": "AiPEfjVMEyG3"
   },
   "source": [
    "A continuación, realiza una normalización *Min-max* de los datos."
   ]
  },
  {
   "cell_type": "markdown",
   "metadata": {},
   "source": [
    "Normalizaremos todas las columnas menos index_col"
   ]
  },
  {
   "cell_type": "code",
   "execution_count": 3,
   "metadata": {
    "id": "3onri25G845w"
   },
   "outputs": [
    {
     "data": {
      "text/html": [
       "<div>\n",
       "<style scoped>\n",
       "    .dataframe tbody tr th:only-of-type {\n",
       "        vertical-align: middle;\n",
       "    }\n",
       "\n",
       "    .dataframe tbody tr th {\n",
       "        vertical-align: top;\n",
       "    }\n",
       "\n",
       "    .dataframe thead th {\n",
       "        text-align: right;\n",
       "    }\n",
       "</style>\n",
       "<table border=\"1\" class=\"dataframe\">\n",
       "  <thead>\n",
       "    <tr style=\"text-align: right;\">\n",
       "      <th></th>\n",
       "      <th>index_col</th>\n",
       "      <th>A001_1</th>\n",
       "      <th>A001_2</th>\n",
       "      <th>A001_3</th>\n",
       "      <th>A001_4</th>\n",
       "      <th>A002_1</th>\n",
       "      <th>A002_2</th>\n",
       "      <th>A002_3</th>\n",
       "      <th>A002_4</th>\n",
       "      <th>A003_1</th>\n",
       "      <th>...</th>\n",
       "      <th>H010_1</th>\n",
       "      <th>H010_2</th>\n",
       "      <th>H010_3</th>\n",
       "      <th>H010_4</th>\n",
       "      <th>H011_1</th>\n",
       "      <th>H011_2</th>\n",
       "      <th>H011_3</th>\n",
       "      <th>H011_4</th>\n",
       "      <th>G027A_1</th>\n",
       "      <th>G027A_2</th>\n",
       "    </tr>\n",
       "  </thead>\n",
       "  <tbody>\n",
       "    <tr>\n",
       "      <th>0</th>\n",
       "      <td>Albania</td>\n",
       "      <td>0.950982</td>\n",
       "      <td>0.050211</td>\n",
       "      <td>0.030890</td>\n",
       "      <td>0.000000</td>\n",
       "      <td>0.447730</td>\n",
       "      <td>0.748432</td>\n",
       "      <td>0.121600</td>\n",
       "      <td>0.132594</td>\n",
       "      <td>0.099209</td>\n",
       "      <td>...</td>\n",
       "      <td>0.169171</td>\n",
       "      <td>0.360490</td>\n",
       "      <td>0.211356</td>\n",
       "      <td>0.714106</td>\n",
       "      <td>0.275554</td>\n",
       "      <td>0.492497</td>\n",
       "      <td>0.130472</td>\n",
       "      <td>0.585101</td>\n",
       "      <td>0.994214</td>\n",
       "      <td>0.005786</td>\n",
       "    </tr>\n",
       "    <tr>\n",
       "      <th>1</th>\n",
       "      <td>Andorra</td>\n",
       "      <td>0.681331</td>\n",
       "      <td>0.330451</td>\n",
       "      <td>0.109838</td>\n",
       "      <td>0.169465</td>\n",
       "      <td>0.811137</td>\n",
       "      <td>0.251514</td>\n",
       "      <td>0.114190</td>\n",
       "      <td>0.116218</td>\n",
       "      <td>0.917585</td>\n",
       "      <td>...</td>\n",
       "      <td>0.039611</td>\n",
       "      <td>0.000000</td>\n",
       "      <td>0.240452</td>\n",
       "      <td>1.000000</td>\n",
       "      <td>0.072855</td>\n",
       "      <td>0.150411</td>\n",
       "      <td>0.058277</td>\n",
       "      <td>0.990905</td>\n",
       "      <td>0.000000</td>\n",
       "      <td>1.000000</td>\n",
       "    </tr>\n",
       "    <tr>\n",
       "      <th>2</th>\n",
       "      <td>Argentina</td>\n",
       "      <td>0.724935</td>\n",
       "      <td>0.306068</td>\n",
       "      <td>0.021990</td>\n",
       "      <td>0.000000</td>\n",
       "      <td>0.847863</td>\n",
       "      <td>0.160477</td>\n",
       "      <td>0.125527</td>\n",
       "      <td>0.261751</td>\n",
       "      <td>0.448659</td>\n",
       "      <td>...</td>\n",
       "      <td>0.111177</td>\n",
       "      <td>0.322864</td>\n",
       "      <td>0.334902</td>\n",
       "      <td>0.697948</td>\n",
       "      <td>0.277256</td>\n",
       "      <td>0.557964</td>\n",
       "      <td>0.280552</td>\n",
       "      <td>0.452555</td>\n",
       "      <td>0.971046</td>\n",
       "      <td>0.028954</td>\n",
       "    </tr>\n",
       "    <tr>\n",
       "      <th>3</th>\n",
       "      <td>Armenia</td>\n",
       "      <td>0.691342</td>\n",
       "      <td>0.323778</td>\n",
       "      <td>0.102995</td>\n",
       "      <td>0.113504</td>\n",
       "      <td>0.521688</td>\n",
       "      <td>0.536692</td>\n",
       "      <td>0.208615</td>\n",
       "      <td>0.165522</td>\n",
       "      <td>0.264157</td>\n",
       "      <td>...</td>\n",
       "      <td>0.269904</td>\n",
       "      <td>0.551108</td>\n",
       "      <td>0.467876</td>\n",
       "      <td>0.357525</td>\n",
       "      <td>0.404970</td>\n",
       "      <td>0.738125</td>\n",
       "      <td>0.388388</td>\n",
       "      <td>0.179112</td>\n",
       "      <td>0.949293</td>\n",
       "      <td>0.050707</td>\n",
       "    </tr>\n",
       "    <tr>\n",
       "      <th>4</th>\n",
       "      <td>Australia</td>\n",
       "      <td>0.718969</td>\n",
       "      <td>0.261301</td>\n",
       "      <td>0.293585</td>\n",
       "      <td>0.125822</td>\n",
       "      <td>0.845079</td>\n",
       "      <td>0.289785</td>\n",
       "      <td>0.054016</td>\n",
       "      <td>0.033036</td>\n",
       "      <td>0.546001</td>\n",
       "      <td>...</td>\n",
       "      <td>0.114671</td>\n",
       "      <td>0.474983</td>\n",
       "      <td>0.671671</td>\n",
       "      <td>0.384569</td>\n",
       "      <td>0.208106</td>\n",
       "      <td>0.565797</td>\n",
       "      <td>0.544348</td>\n",
       "      <td>0.339606</td>\n",
       "      <td>0.901056</td>\n",
       "      <td>0.098944</td>\n",
       "    </tr>\n",
       "  </tbody>\n",
       "</table>\n",
       "<p>5 rows × 769 columns</p>\n",
       "</div>"
      ],
      "text/plain": [
       "   index_col    A001_1    A001_2    A001_3    A001_4    A002_1    A002_2  \\\n",
       "0    Albania  0.950982  0.050211  0.030890  0.000000  0.447730  0.748432   \n",
       "1    Andorra  0.681331  0.330451  0.109838  0.169465  0.811137  0.251514   \n",
       "2  Argentina  0.724935  0.306068  0.021990  0.000000  0.847863  0.160477   \n",
       "3    Armenia  0.691342  0.323778  0.102995  0.113504  0.521688  0.536692   \n",
       "4  Australia  0.718969  0.261301  0.293585  0.125822  0.845079  0.289785   \n",
       "\n",
       "     A002_3    A002_4    A003_1  ...    H010_1    H010_2    H010_3    H010_4  \\\n",
       "0  0.121600  0.132594  0.099209  ...  0.169171  0.360490  0.211356  0.714106   \n",
       "1  0.114190  0.116218  0.917585  ...  0.039611  0.000000  0.240452  1.000000   \n",
       "2  0.125527  0.261751  0.448659  ...  0.111177  0.322864  0.334902  0.697948   \n",
       "3  0.208615  0.165522  0.264157  ...  0.269904  0.551108  0.467876  0.357525   \n",
       "4  0.054016  0.033036  0.546001  ...  0.114671  0.474983  0.671671  0.384569   \n",
       "\n",
       "     H011_1    H011_2    H011_3    H011_4   G027A_1   G027A_2  \n",
       "0  0.275554  0.492497  0.130472  0.585101  0.994214  0.005786  \n",
       "1  0.072855  0.150411  0.058277  0.990905  0.000000  1.000000  \n",
       "2  0.277256  0.557964  0.280552  0.452555  0.971046  0.028954  \n",
       "3  0.404970  0.738125  0.388388  0.179112  0.949293  0.050707  \n",
       "4  0.208106  0.565797  0.544348  0.339606  0.901056  0.098944  \n",
       "\n",
       "[5 rows x 769 columns]"
      ]
     },
     "execution_count": 3,
     "metadata": {},
     "output_type": "execute_result"
    }
   ],
   "source": [
    "from sklearn.preprocessing import MinMaxScaler\n",
    "scaler = MinMaxScaler()\n",
    "df.loc[:, 'A001_1':] = scaler.fit_transform(df.loc[:, 'A001_1':])\n",
    "df = pd.DataFrame(df)\n",
    "df.head()"
   ]
  },
  {
   "cell_type": "markdown",
   "metadata": {
    "id": "OYi34XZvFjEK"
   },
   "source": [
    "# [3 ptos] Parte 2: Clustering jerárquico aglomerativo"
   ]
  },
  {
   "cell_type": "markdown",
   "metadata": {
    "id": "6objTLAZFoos"
   },
   "source": [
    "En esta parte deberás hacer clustering de los distintos paises y calcular el *silhouette score* de los distintos clusters que encuentres. El *silhouette score* es una medida que indica la \"calidad\" de los clusters  encontrados al comparar que tan similar son los objetos de los clusters con la separación que tienen con los objetos de los otros clusters.\n",
    "\n",
    "En particular deberas hacer lo siguiente:\n",
    "1. Con la función [`AgglomerativeClustering`](https://scikit-learn.org/stable/modules/generated/sklearn.cluster.AgglomerativeClustering.html) de `sklearn` deberás encontrar *n* clusters con distinas métricas de distancia y criterios de enlace. \n",
    "\n",
    "    - El valor de *n* debe ir entre 5 y 8\n",
    "    - Las métricas de distancia son *euclidean*, *manhattan* y *cosine*\n",
    "    - Los criterios de enlace son *complete*, *average* y *single*\n",
    "\n",
    "  Por lo tanto, se harán un total de 4 x 3 x 3 = 36 aglomeraciones distintas\n",
    "\n",
    "2. Con la función [`silhouette_score`](https://scikit-learn.org/stable/modules/generated/sklearn.metrics.silhouette_score.html) de `sklearn`, calcula el *silhouette score* (valga la redundancia) de los clusters que vayas encontrando. \n",
    "\n",
    "3. Finalmente, ordena tus resultados de forma descendente e indica cuál fue la mejor configuración. ¿Qué métrica de distancia tiene mejores resultados? "
   ]
  },
  {
   "cell_type": "code",
   "execution_count": 4,
   "metadata": {
    "id": "HdkO7MolK3nP"
   },
   "outputs": [],
   "source": [
    "from sklearn.cluster import AgglomerativeClustering\n",
    "from sklearn.metrics import silhouette_score\n",
    "\n",
    "# Realiza las distintas configuraciones de clustering aquí\n",
    "hac_5_e_c = AgglomerativeClustering(n_clusters = 5, \n",
    "                             affinity = \"euclidean\",\n",
    "                             linkage = \"complete\")\n",
    "hac_6_e_c = AgglomerativeClustering(n_clusters = 6, \n",
    "                             affinity = \"euclidean\",\n",
    "                             linkage = \"complete\")\n",
    "hac_7_e_c = AgglomerativeClustering(n_clusters = 7, \n",
    "                             affinity = \"euclidean\",\n",
    "                             linkage = \"complete\")\n",
    "hac_8_e_c = AgglomerativeClustering(n_clusters = 8, \n",
    "                             affinity = \"euclidean\",\n",
    "                             linkage = \"complete\")\n",
    "\n",
    "hac_5_m_c = AgglomerativeClustering(n_clusters = 5, \n",
    "                             affinity = \"manhattan\",\n",
    "                             linkage = \"complete\")\n",
    "hac_6_m_c = AgglomerativeClustering(n_clusters = 6, \n",
    "                             affinity = \"manhattan\",\n",
    "                             linkage = \"complete\")\n",
    "hac_7_m_c = AgglomerativeClustering(n_clusters = 7, \n",
    "                             affinity = \"manhattan\",\n",
    "                             linkage = \"complete\")\n",
    "hac_8_m_c = AgglomerativeClustering(n_clusters = 8, \n",
    "                             affinity = \"manhattan\",\n",
    "                             linkage = \"complete\")\n",
    "\n",
    "hac_5_c_c = AgglomerativeClustering(n_clusters = 5, \n",
    "                             affinity = \"cosine\",\n",
    "                             linkage = \"complete\")\n",
    "hac_6_c_c = AgglomerativeClustering(n_clusters = 6, \n",
    "                             affinity = \"cosine\",\n",
    "                             linkage = \"complete\")\n",
    "hac_7_c_c = AgglomerativeClustering(n_clusters = 7, \n",
    "                             affinity = \"cosine\",\n",
    "                             linkage = \"complete\")\n",
    "hac_8_c_c = AgglomerativeClustering(n_clusters = 8, \n",
    "                             affinity = \"cosine\",\n",
    "                             linkage = \"complete\")\n",
    "####\n",
    "hac_5_e_a = AgglomerativeClustering(n_clusters = 5, \n",
    "                             affinity = \"euclidean\",\n",
    "                             linkage = \"average\")\n",
    "hac_6_e_a = AgglomerativeClustering(n_clusters = 6, \n",
    "                             affinity = \"euclidean\",\n",
    "                             linkage = \"average\")\n",
    "hac_7_e_a = AgglomerativeClustering(n_clusters = 7, \n",
    "                             affinity = \"euclidean\",\n",
    "                             linkage = \"average\")\n",
    "hac_8_e_a = AgglomerativeClustering(n_clusters = 8, \n",
    "                             affinity = \"euclidean\",\n",
    "                             linkage = \"average\")\n",
    "\n",
    "hac_5_m_a = AgglomerativeClustering(n_clusters = 5, \n",
    "                             affinity = \"manhattan\",\n",
    "                             linkage = \"average\")\n",
    "hac_6_m_a = AgglomerativeClustering(n_clusters = 6, \n",
    "                             affinity = \"manhattan\",\n",
    "                             linkage = \"average\")\n",
    "hac_7_m_a = AgglomerativeClustering(n_clusters = 7, \n",
    "                             affinity = \"manhattan\",\n",
    "                             linkage = \"average\")\n",
    "hac_8_m_a = AgglomerativeClustering(n_clusters = 8, \n",
    "                             affinity = \"manhattan\",\n",
    "                             linkage = \"average\")\n",
    "\n",
    "hac_5_c_a = AgglomerativeClustering(n_clusters = 5, \n",
    "                             affinity = \"cosine\",\n",
    "                             linkage = \"average\")\n",
    "hac_6_c_a = AgglomerativeClustering(n_clusters = 6, \n",
    "                             affinity = \"cosine\",\n",
    "                             linkage = \"average\")\n",
    "hac_7_c_a = AgglomerativeClustering(n_clusters = 7, \n",
    "                             affinity = \"cosine\",\n",
    "                             linkage = \"average\")\n",
    "hac_8_c_a = AgglomerativeClustering(n_clusters = 8, \n",
    "                             affinity = \"cosine\",\n",
    "                             linkage = \"average\")\n",
    "####\n",
    "\n",
    "hac_5_e_s = AgglomerativeClustering(n_clusters = 5, \n",
    "                             affinity = \"euclidean\",\n",
    "                             linkage = \"single\")\n",
    "hac_6_e_s = AgglomerativeClustering(n_clusters = 6, \n",
    "                             affinity = \"euclidean\",\n",
    "                             linkage = \"single\")\n",
    "hac_7_e_s = AgglomerativeClustering(n_clusters = 7, \n",
    "                             affinity = \"euclidean\",\n",
    "                             linkage = \"single\")\n",
    "hac_8_e_s = AgglomerativeClustering(n_clusters = 8, \n",
    "                             affinity = \"euclidean\",\n",
    "                             linkage = \"single\")\n",
    "\n",
    "hac_5_m_s = AgglomerativeClustering(n_clusters = 5, \n",
    "                             affinity = \"manhattan\",\n",
    "                             linkage = \"single\")\n",
    "hac_6_m_s = AgglomerativeClustering(n_clusters = 6, \n",
    "                             affinity = \"manhattan\",\n",
    "                             linkage = \"single\")\n",
    "hac_7_m_s = AgglomerativeClustering(n_clusters = 7, \n",
    "                             affinity = \"manhattan\",\n",
    "                             linkage = \"single\")\n",
    "hac_8_m_s = AgglomerativeClustering(n_clusters = 8, \n",
    "                             affinity = \"manhattan\",\n",
    "                             linkage = \"single\")\n",
    "\n",
    "hac_5_c_s = AgglomerativeClustering(n_clusters = 5, \n",
    "                             affinity = \"cosine\",\n",
    "                             linkage = \"single\")\n",
    "hac_6_c_s = AgglomerativeClustering(n_clusters = 6, \n",
    "                             affinity = \"cosine\",\n",
    "                             linkage = \"single\")\n",
    "hac_7_c_s = AgglomerativeClustering(n_clusters = 7, \n",
    "                             affinity = \"cosine\",\n",
    "                             linkage = \"single\")\n",
    "hac_8_c_s = AgglomerativeClustering(n_clusters = 8, \n",
    "                             affinity = \"cosine\",\n",
    "                             linkage = \"single\")\n",
    "\n",
    "# A AgglomerativeClustering le puedes indicar los argumentos con n_clusters, affinity y linkage\n",
    "# A silhouette_score debes entregarle la base de datos y los clusters al que pertenecen los datos"
   ]
  },
  {
   "cell_type": "code",
   "execution_count": 5,
   "metadata": {},
   "outputs": [
    {
     "name": "stdout",
     "output_type": "stream",
     "text": [
      "AgglomerativeClustering(linkage='complete', n_clusters=5)\n"
     ]
    }
   ],
   "source": [
    "print(hac_5_e_c)"
   ]
  },
  {
   "cell_type": "markdown",
   "metadata": {},
   "source": [
    "Realizamos fit con todos, despues sacamos las labels y comparamos "
   ]
  },
  {
   "cell_type": "code",
   "execution_count": 6,
   "metadata": {},
   "outputs": [],
   "source": [
    "cluster_5_e_c = hac_5_e_c.fit(df.loc[:, 'A001_1':])\n",
    "cluster_6_e_c = hac_6_e_c.fit(df.loc[:, 'A001_1':])\n",
    "cluster_7_e_c = hac_7_e_c.fit(df.loc[:, 'A001_1':])\n",
    "cluster_8_e_c = hac_8_e_c.fit(df.loc[:, 'A001_1':])\n",
    "\n",
    "cluster_5_m_c = hac_5_m_c.fit(df.loc[:, 'A001_1':])\n",
    "cluster_6_m_c = hac_6_m_c.fit(df.loc[:, 'A001_1':])\n",
    "cluster_7_m_c = hac_7_m_c.fit(df.loc[:, 'A001_1':])\n",
    "cluster_8_m_c = hac_8_m_c.fit(df.loc[:, 'A001_1':])\n",
    "\n",
    "cluster_5_c_c = hac_5_c_c.fit(df.loc[:, 'A001_1':])\n",
    "cluster_6_c_c = hac_6_c_c.fit(df.loc[:, 'A001_1':])\n",
    "cluster_7_c_c = hac_7_c_c.fit(df.loc[:, 'A001_1':])\n",
    "cluster_8_c_c = hac_8_c_c.fit(df.loc[:, 'A001_1':])\n",
    "\n",
    "####\n",
    "\n",
    "cluster_5_e_a = hac_5_e_a.fit(df.loc[:, 'A001_1':])\n",
    "cluster_6_e_a = hac_6_e_a.fit(df.loc[:, 'A001_1':])\n",
    "cluster_7_e_a = hac_7_e_a.fit(df.loc[:, 'A001_1':])\n",
    "cluster_8_e_a = hac_8_e_a.fit(df.loc[:, 'A001_1':])\n",
    "\n",
    "cluster_5_m_a = hac_5_m_a.fit(df.loc[:, 'A001_1':])\n",
    "cluster_6_m_a = hac_6_m_a.fit(df.loc[:, 'A001_1':])\n",
    "cluster_7_m_a = hac_7_m_a.fit(df.loc[:, 'A001_1':])\n",
    "cluster_8_m_a = hac_8_m_a.fit(df.loc[:, 'A001_1':])\n",
    "\n",
    "cluster_5_c_a = hac_5_c_a.fit(df.loc[:, 'A001_1':])\n",
    "cluster_6_c_a = hac_6_c_a.fit(df.loc[:, 'A001_1':])\n",
    "cluster_7_c_a = hac_7_c_a.fit(df.loc[:, 'A001_1':])\n",
    "cluster_8_c_a = hac_8_c_a.fit(df.loc[:, 'A001_1':])\n",
    "\n",
    "####\n",
    "\n",
    "cluster_5_e_s = hac_5_e_s.fit(df.loc[:, 'A001_1':])\n",
    "cluster_6_e_s = hac_6_e_s.fit(df.loc[:, 'A001_1':])\n",
    "cluster_7_e_s = hac_7_e_s.fit(df.loc[:, 'A001_1':])\n",
    "cluster_8_e_s = hac_8_e_s.fit(df.loc[:, 'A001_1':])\n",
    "\n",
    "cluster_5_m_s = hac_5_m_s.fit(df.loc[:, 'A001_1':])\n",
    "cluster_6_m_s = hac_6_m_s.fit(df.loc[:, 'A001_1':])\n",
    "cluster_7_m_s = hac_7_m_s.fit(df.loc[:, 'A001_1':])\n",
    "cluster_8_m_s = hac_8_m_s.fit(df.loc[:, 'A001_1':])\n",
    "\n",
    "cluster_5_c_s = hac_5_c_s.fit(df.loc[:, 'A001_1':])\n",
    "cluster_6_c_s = hac_6_c_s.fit(df.loc[:, 'A001_1':])\n",
    "cluster_7_c_s = hac_7_c_s.fit(df.loc[:, 'A001_1':])\n",
    "cluster_8_c_s = hac_8_c_s.fit(df.loc[:, 'A001_1':])"
   ]
  },
  {
   "cell_type": "code",
   "execution_count": 7,
   "metadata": {},
   "outputs": [],
   "source": [
    "labels_5_e_c = cluster_5_e_c.labels_\n",
    "labels_6_e_c = cluster_6_e_c.labels_\n",
    "labels_7_e_c = cluster_7_e_c.labels_\n",
    "labels_8_e_c = cluster_8_e_c.labels_\n",
    "\n",
    "labels_5_m_c = cluster_5_m_c.labels_\n",
    "labels_6_m_c = cluster_6_m_c.labels_\n",
    "labels_7_m_c = cluster_7_m_c.labels_\n",
    "labels_8_m_c = hac_8_m_c.labels_\n",
    "\n",
    "labels_5_c_c = cluster_5_c_c.labels_\n",
    "labels_6_c_c = cluster_6_c_c.labels_\n",
    "labels_7_c_c = cluster_7_c_c.labels_\n",
    "labels_8_c_c = cluster_8_c_c.labels_\n",
    "\n",
    "####\n",
    "\n",
    "labels_5_e_a = cluster_5_e_a.labels_\n",
    "labels_6_e_a = cluster_6_e_a.labels_\n",
    "labels_7_e_a = cluster_7_e_a.labels_\n",
    "labels_8_e_a = cluster_8_e_a.labels_\n",
    "\n",
    "labels_5_m_a = cluster_5_m_a.labels_\n",
    "labels_6_m_a = cluster_6_m_a.labels_\n",
    "labels_7_m_a = cluster_7_m_a.labels_\n",
    "labels_8_m_a = cluster_8_m_a.labels_\n",
    "\n",
    "labels_5_c_a = cluster_5_c_a.labels_\n",
    "labels_6_c_a = cluster_6_c_a.labels_\n",
    "labels_7_c_a = cluster_7_c_a.labels_\n",
    "labels_8_c_a = cluster_8_c_a.labels_\n",
    "\n",
    "####\n",
    "\n",
    "labels_5_e_s = cluster_5_e_s.labels_\n",
    "labels_6_e_s = cluster_6_e_s.labels_\n",
    "labels_7_e_s = cluster_7_e_s.labels_\n",
    "labels_8_e_s = cluster_8_e_s.labels_\n",
    "\n",
    "labels_5_m_s = cluster_5_m_s.labels_\n",
    "labels_6_m_s = cluster_6_m_s.labels_\n",
    "labels_7_m_s = cluster_7_m_s.labels_\n",
    "labels_8_m_s = cluster_8_m_s.labels_\n",
    "\n",
    "labels_5_c_s = cluster_5_c_s.labels_\n",
    "labels_6_c_s = cluster_6_c_s.labels_\n",
    "labels_7_c_s = cluster_7_c_s.labels_\n",
    "labels_8_c_s = cluster_8_c_s.labels_"
   ]
  },
  {
   "cell_type": "code",
   "execution_count": 8,
   "metadata": {},
   "outputs": [],
   "source": [
    "list_s = []\n",
    "\n",
    "list_s.append({'name':'5_e_c', 'score':silhouette_score(df.loc[:, 'A001_1':], labels_5_e_c)})\n",
    "list_s.append({'name':'6_e_c', 'score':silhouette_score(df.loc[:, 'A001_1':], labels_6_e_c)})\n",
    "list_s.append({'name':'7_e_c', 'score':silhouette_score(df.loc[:, 'A001_1':], labels_7_e_c)})\n",
    "list_s.append({'name':'8_e_c', 'score':silhouette_score(df.loc[:, 'A001_1':], labels_8_e_c)})\n",
    "\n",
    "list_s.append({'name':'5_m_c', 'score':silhouette_score(df.loc[:, 'A001_1':], labels_5_m_c)})\n",
    "list_s.append({'name':'6_m_c', 'score':silhouette_score(df.loc[:, 'A001_1':], labels_6_m_c)})\n",
    "list_s.append({'name':'7_m_c', 'score':silhouette_score(df.loc[:, 'A001_1':], labels_7_m_c)})\n",
    "list_s.append({'name':'8_m_c', 'score':silhouette_score(df.loc[:, 'A001_1':], labels_8_m_c)})\n",
    "\n",
    "list_s.append({'name':'5_c_c', 'score':silhouette_score(df.loc[:, 'A001_1':], labels_5_c_c)})\n",
    "list_s.append({'name':'6_c_c', 'score':silhouette_score(df.loc[:, 'A001_1':], labels_6_c_c)})\n",
    "list_s.append({'name':'7_c_c', 'score':silhouette_score(df.loc[:, 'A001_1':], labels_7_c_c)})\n",
    "list_s.append({'name':'8_c_c', 'score':silhouette_score(df.loc[:, 'A001_1':], labels_8_c_c)})\n",
    "\n",
    "####\n",
    "\n",
    "list_s.append({'name':'5_e_a', 'score':silhouette_score(df.loc[:, 'A001_1':], labels_5_e_a)})\n",
    "list_s.append({'name':'6_e_a', 'score':silhouette_score(df.loc[:, 'A001_1':], labels_6_e_a)})\n",
    "list_s.append({'name':'7_e_a', 'score':silhouette_score(df.loc[:, 'A001_1':], labels_7_e_a)})\n",
    "list_s.append({'name':'8_e_a', 'score':silhouette_score(df.loc[:, 'A001_1':], labels_8_e_a)})\n",
    "\n",
    "list_s.append({'name':'5_m_a', 'score':silhouette_score(df.loc[:, 'A001_1':], labels_5_m_a)})\n",
    "list_s.append({'name':'6_m_a', 'score':silhouette_score(df.loc[:, 'A001_1':], labels_6_m_a)})\n",
    "list_s.append({'name':'7_m_a', 'score':silhouette_score(df.loc[:, 'A001_1':], labels_7_m_a)})\n",
    "list_s.append({'name':'8_m_a', 'score':silhouette_score(df.loc[:, 'A001_1':], labels_8_m_a)})\n",
    "\n",
    "list_s.append({'name':'5_c_a', 'score':silhouette_score(df.loc[:, 'A001_1':], labels_5_c_a)})\n",
    "list_s.append({'name':'6_c_a', 'score':silhouette_score(df.loc[:, 'A001_1':], labels_6_c_a)})\n",
    "list_s.append({'name':'7_c_a', 'score':silhouette_score(df.loc[:, 'A001_1':], labels_7_c_a)})\n",
    "list_s.append({'name':'8_c_a', 'score':silhouette_score(df.loc[:, 'A001_1':], labels_8_c_a)})\n",
    "\n",
    "####\n",
    "\n",
    "list_s.append({'name':'5_e_s', 'score':silhouette_score(df.loc[:, 'A001_1':], labels_5_e_s)})\n",
    "list_s.append({'name':'6_e_s', 'score':silhouette_score(df.loc[:, 'A001_1':], labels_6_e_s)})\n",
    "list_s.append({'name':'7_e_s', 'score':silhouette_score(df.loc[:, 'A001_1':], labels_7_e_s)})\n",
    "list_s.append({'name':'8_e_s', 'score':silhouette_score(df.loc[:, 'A001_1':], labels_8_e_s)})\n",
    "\n",
    "list_s.append({'name':'5_m_s', 'score':silhouette_score(df.loc[:, 'A001_1':], labels_5_m_s)})\n",
    "list_s.append({'name':'6_m_s', 'score':silhouette_score(df.loc[:, 'A001_1':], labels_6_m_s)})\n",
    "list_s.append({'name':'7_m_s', 'score':silhouette_score(df.loc[:, 'A001_1':], labels_7_m_s)})\n",
    "list_s.append({'name':'8_m_s', 'score':silhouette_score(df.loc[:, 'A001_1':], labels_8_m_s)})\n",
    "\n",
    "list_s.append({'name':'5_c_s', 'score':silhouette_score(df.loc[:, 'A001_1':], labels_5_c_s)})\n",
    "list_s.append({'name':'6_c_s', 'score':silhouette_score(df.loc[:, 'A001_1':], labels_6_c_s)})\n",
    "list_s.append({'name':'7_c_s', 'score':silhouette_score(df.loc[:, 'A001_1':], labels_7_c_s)})\n",
    "list_s.append({'name':'8_c_s', 'score':silhouette_score(df.loc[:, 'A001_1':], labels_8_c_s)})"
   ]
  },
  {
   "cell_type": "code",
   "execution_count": 9,
   "metadata": {},
   "outputs": [
    {
     "name": "stdout",
     "output_type": "stream",
     "text": [
      "[{'name': '8_m_c', 'score': 0.12706179250733676}, {'name': '7_m_c', 'score': 0.12363187461331135}, {'name': '5_m_c', 'score': 0.12157164547473526}, {'name': '6_m_c', 'score': 0.12118919497252906}, {'name': '5_c_c', 'score': 0.11985702994684326}, {'name': '7_c_c', 'score': 0.11950936567678826}, {'name': '8_c_c', 'score': 0.118252279657837}, {'name': '6_c_c', 'score': 0.11657731286399847}, {'name': '8_c_a', 'score': 0.11373931763706625}, {'name': '5_c_a', 'score': 0.11181601533128617}, {'name': '7_c_a', 'score': 0.11112805192072257}, {'name': '8_e_c', 'score': 0.11016003015773997}, {'name': '8_e_a', 'score': 0.1094614870657514}, {'name': '6_c_a', 'score': 0.1089056858912223}, {'name': '7_e_c', 'score': 0.10603903689228336}, {'name': '6_e_c', 'score': 0.10370897003491945}, {'name': '6_e_a', 'score': 0.10327312863584084}, {'name': '8_m_a', 'score': 0.10293943196146241}, {'name': '5_e_a', 'score': 0.09924014882221865}, {'name': '7_e_a', 'score': 0.09749281522278999}, {'name': '5_m_a', 'score': 0.09657182778787081}, {'name': '5_e_c', 'score': 0.09364987919217753}, {'name': '6_m_a', 'score': 0.09354991720773866}, {'name': '7_m_a', 'score': 0.08910107982739189}, {'name': '7_m_s', 'score': 0.05346529368018247}, {'name': '5_c_s', 'score': 0.049482759878274066}, {'name': '8_m_s', 'score': 0.048479884592847744}, {'name': '5_e_s', 'score': 0.038256900492194795}, {'name': '5_m_s', 'score': 0.038256900492194795}, {'name': '6_e_s', 'score': 0.017071616747962596}, {'name': '6_m_s', 'score': 0.017071616747962596}, {'name': '8_c_s', 'score': 0.01243553955088465}, {'name': '7_e_s', 'score': 0.00826357872318041}, {'name': '7_c_s', 'score': 0.005859397127766478}, {'name': '6_c_s', 'score': 0.0020510244138780965}, {'name': '8_e_s', 'score': -0.006079306826362943}]\n"
     ]
    }
   ],
   "source": [
    "sortlist = sorted(list_s, key=lambda d: d['score'], reverse=True)\n",
    "print(sortlist)"
   ]
  },
  {
   "cell_type": "markdown",
   "metadata": {},
   "source": [
    "Podemos apreciar que el valor más cercano a 1 fue 0.12706179250733676. Este valor fue obtenido con n=8, métrica manhattan y método complete. Tambien tenemos todos los otros métodos ordenados por puntaje. "
   ]
  },
  {
   "cell_type": "markdown",
   "metadata": {
    "id": "jeyZyfP5CbzM"
   },
   "source": [
    "# [1.5 ptos] Parte 3: Reducción de dimensionalidad y visualización de Información"
   ]
  },
  {
   "cell_type": "markdown",
   "metadata": {
    "id": "Sw1kioV0DXPY"
   },
   "source": [
    "Reduce las 768 características a 2 dimensiones utilizando PCA. Guarda este resultado en un nuevo dataframe. Procura mantener los nombres de los países como índice. Grafica la mejor aglomeración encontrada en la parte anterior, utiliza como marca de color el cluster al que pertenece cada país. Comenta junto a qué países se encuentra Chile.\n",
    "\n",
    "**OJO:** No debes encontrar nuevos clusters con el dataset de dos dimensiones, sino que en base a la mejor aglomeración ya encontrada, debes graficar el resultado. La reducción solo se hace para tener un espacio donde graficar.\n",
    "\n",
    "Para esto puedes utilizar las librerías `matplotlib`, `seaborn` o `altair`."
   ]
  },
  {
   "cell_type": "code",
   "execution_count": 25,
   "metadata": {
    "id": "Pb4BNK8fQGAT"
   },
   "outputs": [
    {
     "data": {
      "text/html": [
       "<div>\n",
       "<style scoped>\n",
       "    .dataframe tbody tr th:only-of-type {\n",
       "        vertical-align: middle;\n",
       "    }\n",
       "\n",
       "    .dataframe tbody tr th {\n",
       "        vertical-align: top;\n",
       "    }\n",
       "\n",
       "    .dataframe thead th {\n",
       "        text-align: right;\n",
       "    }\n",
       "</style>\n",
       "<table border=\"1\" class=\"dataframe\">\n",
       "  <thead>\n",
       "    <tr style=\"text-align: right;\">\n",
       "      <th></th>\n",
       "      <th>component 1</th>\n",
       "      <th>component 2</th>\n",
       "    </tr>\n",
       "  </thead>\n",
       "  <tbody>\n",
       "    <tr>\n",
       "      <th>0</th>\n",
       "      <td>-2.455278</td>\n",
       "      <td>-2.816516</td>\n",
       "    </tr>\n",
       "    <tr>\n",
       "      <th>1</th>\n",
       "      <td>3.283700</td>\n",
       "      <td>-1.686532</td>\n",
       "    </tr>\n",
       "    <tr>\n",
       "      <th>2</th>\n",
       "      <td>0.842133</td>\n",
       "      <td>0.260682</td>\n",
       "    </tr>\n",
       "    <tr>\n",
       "      <th>3</th>\n",
       "      <td>-2.025405</td>\n",
       "      <td>1.604845</td>\n",
       "    </tr>\n",
       "    <tr>\n",
       "      <th>4</th>\n",
       "      <td>4.176830</td>\n",
       "      <td>-1.656931</td>\n",
       "    </tr>\n",
       "  </tbody>\n",
       "</table>\n",
       "</div>"
      ],
      "text/plain": [
       "   component 1  component 2\n",
       "0    -2.455278    -2.816516\n",
       "1     3.283700    -1.686532\n",
       "2     0.842133     0.260682\n",
       "3    -2.025405     1.604845\n",
       "4     4.176830    -1.656931"
      ]
     },
     "execution_count": 25,
     "metadata": {},
     "output_type": "execute_result"
    }
   ],
   "source": [
    "from sklearn.decomposition import PCA\n",
    "\n",
    "# Utiliza PCA(n_components=2) para reducir la dimensionalidad\n",
    "\n",
    "pca = PCA(n_components=2)\n",
    "principalComponents = pca.fit_transform(df.loc[:, 'A001_1':])\n",
    "\n",
    "pca_n2 = pd.DataFrame(data = principalComponents\n",
    "             , columns = ['component 1', 'component 2'])\n",
    "pca_n2.head()"
   ]
  },
  {
   "cell_type": "markdown",
   "metadata": {},
   "source": [
    "Se uso: (https://stackabuse.com/hierarchical-clustering-with-python-and-scikit-learn/)"
   ]
  },
  {
   "cell_type": "code",
   "execution_count": 34,
   "metadata": {
    "id": "FQqNeEMKE4SB"
   },
   "outputs": [
    {
     "data": {
      "text/plain": [
       "Text(0.5, 1.0, 'Paises')"
      ]
     },
     "execution_count": 34,
     "metadata": {},
     "output_type": "execute_result"
    },
    {
     "data": {
      "image/png": "[encoded data removed]",
      "text/plain": [
       "<Figure size 432x288 with 1 Axes>"
      ]
     },
     "metadata": {
      "needs_background": "light"
     },
     "output_type": "display_data"
    }
   ],
   "source": [
    "import seaborn as sns\n",
    "import matplotlib.pyplot as plt\n",
    "\n",
    "clustering_model_pca = hac_8_m_c\n",
    "clustering_model_pca.fit(principalComponents)\n",
    "\n",
    "data_labels_pca = clustering_model_pca.labels_\n",
    "\n",
    "pca_n2['index_col'] = df['index_col']\n",
    "sns.scatterplot(x= pca_n2['component 1'], \n",
    "                y= pca_n2['component 2'],\n",
    "                hue=data_labels_pca,\n",
    "                palette=\"rainbow\").set_title('Paises')\n",
    "# Grafica aquí el mejor cluster encontrado"
   ]
  },
  {
   "cell_type": "code",
   "execution_count": 42,
   "metadata": {},
   "outputs": [
    {
     "name": "stdout",
     "output_type": "stream",
     "text": [
      "Chile pertenece al grupo 5\n",
      "Los paises del grupo 5 son:\n",
      "8        Belarus\n",
      "14         Chile\n",
      "15         China\n",
      "44     Lithuania\n",
      "63        Russia\n",
      "65     Singapore\n",
      "66      Slovakia\n",
      "72    Taiwan ROC\n",
      "77       Ukraine\n",
      "79       Vietnam\n",
      "Name: index_col, dtype: object\n"
     ]
    }
   ],
   "source": [
    "for i in range(8):\n",
    "    for j in pca_n2[data_labels_pca == i]['index_col']:\n",
    "        if j == 'Chile':\n",
    "            print(f'Chile pertenece al grupo {i}')\n",
    "            print(f'Los paises del grupo {i} son:')\n",
    "            print(pca_n2[data_labels_pca == i]['index_col'])\n"
   ]
  },
  {
   "cell_type": "markdown",
   "metadata": {
    "id": "jSXMUy80l3yS"
   },
   "source": [
    "¿Junto a qué países se encuentra Chile?\n",
    "\n",
    "Sorprende que Chile se encuentra con paises bastante conflictivos. Además son países en su mayoría en vías de desarrollo. Lo que me parecio curioso es que no este agrupado con ningún país latino."
   ]
  },
  {
   "cell_type": "markdown",
   "metadata": {
    "id": "vJV_NJ26QyoU"
   },
   "source": [
    "# [1 pto] Parte 4: KMeans y MiniBatchKMeans\n",
    "Realiza una búsqueda de hiperparámetros sobre la cantidad de clusters, siendo $n=\\{5, 6, 7, 8\\} $. Realiza esto para el algoritmo KMeans y MiniBatchKMeans. Para cada caso grafica el mejor resultado y comenta las diferencias con el algoritmo de clustering aglomerativo. ¿Cambian los vecinos con los que se ubica Chile?\n"
   ]
  },
  {
   "cell_type": "code",
   "execution_count": 13,
   "metadata": {
    "id": "FsTtbFrKQ8R2"
   },
   "outputs": [
    {
     "name": "stdout",
     "output_type": "stream",
     "text": [
      "0.1332221631982781\n",
      "0.13287163580023736\n",
      "0.12813866272696134\n",
      "0.10350118712925443\n",
      "0.12526958077359035\n",
      "0.07083541166160572\n",
      "0.0825080752163348\n",
      "0.10140846658339633\n"
     ]
    }
   ],
   "source": [
    "from sklearn.cluster import KMeans, MiniBatchKMeans\n",
    "\n",
    "kmeans_5 = KMeans(n_clusters=5, random_state = 1863955)\n",
    "cluster_k_5 = kmeans_5.fit(df.loc[:, 'A001_1':])\n",
    "labels_k_5 = cluster_k_5.labels_\n",
    "print(silhouette_score(df.loc[:, 'A001_1':], labels_k_5))\n",
    "\n",
    "kmeans_6 = KMeans(n_clusters=6, random_state = 1863955)\n",
    "cluster_k_6 = kmeans_6.fit(df.loc[:, 'A001_1':])\n",
    "labels_k_6 = cluster_k_6.labels_\n",
    "print(silhouette_score(df.loc[:, 'A001_1':], labels_k_6))\n",
    "\n",
    "kmeans_7 = KMeans(n_clusters=7, random_state = 1863955)\n",
    "cluster_k_7 = kmeans_7.fit(df.loc[:, 'A001_1':])\n",
    "labels_k_7 = cluster_k_7.labels_\n",
    "print(silhouette_score(df.loc[:, 'A001_1':], labels_k_7))\n",
    "\n",
    "kmeans_8 = KMeans(n_clusters=8, random_state = 1863955)\n",
    "cluster_k_8 = kmeans_8.fit(df.loc[:, 'A001_1':])\n",
    "labels_k_8 = cluster_k_8.labels_\n",
    "print(silhouette_score(df.loc[:, 'A001_1':], labels_k_8))\n",
    "\n",
    "###\n",
    "\n",
    "mkmeans_5 = MiniBatchKMeans(n_clusters=5, random_state = 1863955)\n",
    "cluster_mk_5 = mkmeans_5.fit(df.loc[:, 'A001_1':])\n",
    "labels_mk_5 = cluster_mk_5.labels_\n",
    "print(silhouette_score(df.loc[:, 'A001_1':], labels_mk_5))\n",
    "\n",
    "mkmeans_6 = MiniBatchKMeans(n_clusters=6, random_state = 1863955)\n",
    "cluster_mk_6 = mkmeans_6.fit(df.loc[:, 'A001_1':])\n",
    "labels_mk_6 = cluster_mk_6.labels_\n",
    "print(silhouette_score(df.loc[:, 'A001_1':], labels_mk_6))\n",
    "\n",
    "mkmeans_7 = MiniBatchKMeans(n_clusters=7, random_state = 1863955)\n",
    "cluster_mk_7 = mkmeans_7.fit(df.loc[:, 'A001_1':])\n",
    "labels_mk_7 = cluster_mk_7.labels_\n",
    "print(silhouette_score(df.loc[:, 'A001_1':], labels_mk_7))\n",
    "\n",
    "mkmeans_8 = MiniBatchKMeans(n_clusters=8, random_state = 1863955)\n",
    "cluster_mk_8 = mkmeans_8.fit(df.loc[:, 'A001_1':])\n",
    "labels_mk_8 = cluster_mk_8.labels_\n",
    "print(silhouette_score(df.loc[:, 'A001_1':], labels_mk_8))\n",
    "\n",
    "# Reliza la búsqueda de hiperparámetros para cada uno de los algoritmos"
   ]
  },
  {
   "cell_type": "markdown",
   "metadata": {},
   "source": [
    "Vemos que el más cercano a 1 es K-Means con n=5"
   ]
  },
  {
   "cell_type": "code",
   "execution_count": 23,
   "metadata": {
    "id": "yGqxllE1uiOY"
   },
   "outputs": [
    {
     "data": {
      "text/plain": [
       "Text(0.5, 1.0, 'Paises')"
      ]
     },
     "execution_count": 23,
     "metadata": {},
     "output_type": "execute_result"
    },
    {
     "data": {
      "image/png": "[encoded data removed]",
      "text/plain": [
       "<Figure size 432x288 with 1 Axes>"
      ]
     },
     "metadata": {
      "needs_background": "light"
     },
     "output_type": "display_data"
    }
   ],
   "source": [
    "# Grafica los resultados\n",
    "clustering_model_pca = kmeans_5\n",
    "\n",
    "pca = PCA(n_components=2)\n",
    "principalComponents = pca.fit_transform(df.loc[:, 'A001_1':])\n",
    "pca_n2 = pd.DataFrame(data = principalComponents\n",
    "             , columns = ['component 1', 'component 2'])\n",
    "\n",
    "clustering_model_pca.fit(principalComponents)\n",
    "\n",
    "data_labels_pca = clustering_model_pca.labels_\n",
    "\n",
    "pca_n2['index_col'] = df['index_col']\n",
    "sns.scatterplot(x= pca_n2['component 1'], \n",
    "                y= pca_n2['component 2'],\n",
    "                hue=data_labels_pca,\n",
    "                palette=\"rainbow\").set_title('Paises')\n",
    "# Grafica aquí el mejor cluster encontrado"
   ]
  },
  {
   "cell_type": "markdown",
   "metadata": {
    "id": "FzWpKXcUupMo"
   },
   "source": [
    "Comenta los resultados respecto al clustering aglomerativo."
   ]
  },
  {
   "cell_type": "code",
   "execution_count": 24,
   "metadata": {
    "id": "5UYxyJ8zvCwd"
   },
   "outputs": [
    {
     "name": "stdout",
     "output_type": "stream",
     "text": [
      "Chile pertenece al grupo 3\n",
      "Los paises del grupo 3 son:\n",
      "3         Armenia\n",
      "6      Azerbaijan\n",
      "8         Belarus\n",
      "12       Bulgaria\n",
      "14          Chile\n",
      "15          China\n",
      "18         Cyprus\n",
      "31      Guatemala\n",
      "41     Kazakhstan\n",
      "43        Lebanon\n",
      "46        Malasia\n",
      "48     Montenegro\n",
      "57           Peru\n",
      "58    Philippines\n",
      "63         Russia\n",
      "64         Serbia\n",
      "73     Tajikistan\n",
      "74       Thailand\n",
      "76         Turkey\n",
      "77        Ukraine\n",
      "Name: index_col, dtype: object\n"
     ]
    }
   ],
   "source": [
    "for i in range(6):\n",
    "    for j in pca_n2[data_labels_pca == i]['index_col']:\n",
    "        if j == 'Chile':\n",
    "            print(f'Chile pertenece al grupo {i}')\n",
    "            print(f'Los paises del grupo {i} son:')\n",
    "            print(pca_n2[data_labels_pca == i]['index_col'])"
   ]
  },
  {
   "cell_type": "markdown",
   "metadata": {},
   "source": [
    "Se repitieron algunos como Ucrania y Russia. También aparecen unos latinos como Peru y Guatemala. El número de paises es mayor debido a que hay menos clusters. Otra cosa que llamo mi atención es que los graficos de los dos métodos son similares"
   ]
  }
 ],
 "metadata": {
  "colab": {
   "collapsed_sections": [],
   "name": "AC01.ipynb",
   "provenance": []
  },
  "kernelspec": {
   "display_name": "Python 3",
   "language": "python",
   "name": "python3"
  },
  "language_info": {
   "codemirror_mode": {
    "name": "ipython",
    "version": 3
   },
   "file_extension": ".py",
   "mimetype": "text/x-python",
   "name": "python",
   "nbconvert_exporter": "python",
   "pygments_lexer": "ipython3",
   "version": "3.7.7"
  }
 },
 "nbformat": 4,
 "nbformat_minor": 1
}
